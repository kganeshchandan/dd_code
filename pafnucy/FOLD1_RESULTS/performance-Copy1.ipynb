{
 "cells": [
  {
   "cell_type": "code",
   "execution_count": 1,
   "id": "125d4f4c",
   "metadata": {},
   "outputs": [],
   "source": [
    "import pandas as pd\n",
    "import numpy as np\n",
    "import scipy \n",
    "import sklearn.metrics"
   ]
  },
  {
   "cell_type": "code",
   "execution_count": 2,
   "id": "c2b025fd",
   "metadata": {},
   "outputs": [],
   "source": [
    "results = pd.read_csv('./output-2021-11-08T17:04:33-predictions.csv')"
   ]
  },
  {
   "cell_type": "code",
   "execution_count": 3,
   "id": "ad0b1f7c",
   "metadata": {},
   "outputs": [
    {
     "data": {
      "text/html": [
       "<div>\n",
       "<style scoped>\n",
       "    .dataframe tbody tr th:only-of-type {\n",
       "        vertical-align: middle;\n",
       "    }\n",
       "\n",
       "    .dataframe tbody tr th {\n",
       "        vertical-align: top;\n",
       "    }\n",
       "\n",
       "    .dataframe thead th {\n",
       "        text-align: right;\n",
       "    }\n",
       "</style>\n",
       "<table border=\"1\" class=\"dataframe\">\n",
       "  <thead>\n",
       "    <tr style=\"text-align: right;\">\n",
       "      <th></th>\n",
       "      <th>pdbid</th>\n",
       "      <th>real</th>\n",
       "      <th>predicted</th>\n",
       "      <th>set</th>\n",
       "    </tr>\n",
       "  </thead>\n",
       "  <tbody>\n",
       "    <tr>\n",
       "      <th>0</th>\n",
       "      <td>184l</td>\n",
       "      <td>4.72</td>\n",
       "      <td>4.473598</td>\n",
       "      <td>training</td>\n",
       "    </tr>\n",
       "    <tr>\n",
       "      <th>1</th>\n",
       "      <td>185l</td>\n",
       "      <td>3.54</td>\n",
       "      <td>4.377691</td>\n",
       "      <td>training</td>\n",
       "    </tr>\n",
       "    <tr>\n",
       "      <th>2</th>\n",
       "      <td>186l</td>\n",
       "      <td>4.85</td>\n",
       "      <td>4.059655</td>\n",
       "      <td>training</td>\n",
       "    </tr>\n",
       "    <tr>\n",
       "      <th>3</th>\n",
       "      <td>188l</td>\n",
       "      <td>3.33</td>\n",
       "      <td>3.848346</td>\n",
       "      <td>training</td>\n",
       "    </tr>\n",
       "    <tr>\n",
       "      <th>4</th>\n",
       "      <td>1a07</td>\n",
       "      <td>6.40</td>\n",
       "      <td>5.654712</td>\n",
       "      <td>training</td>\n",
       "    </tr>\n",
       "    <tr>\n",
       "      <th>...</th>\n",
       "      <td>...</td>\n",
       "      <td>...</td>\n",
       "      <td>...</td>\n",
       "      <td>...</td>\n",
       "    </tr>\n",
       "    <tr>\n",
       "      <th>16603</th>\n",
       "      <td>7kme</td>\n",
       "      <td>4.40</td>\n",
       "      <td>7.965694</td>\n",
       "      <td>test</td>\n",
       "    </tr>\n",
       "    <tr>\n",
       "      <th>16604</th>\n",
       "      <td>7upj</td>\n",
       "      <td>8.49</td>\n",
       "      <td>7.267036</td>\n",
       "      <td>test</td>\n",
       "    </tr>\n",
       "    <tr>\n",
       "      <th>16605</th>\n",
       "      <td>8hvp</td>\n",
       "      <td>9.00</td>\n",
       "      <td>6.372945</td>\n",
       "      <td>test</td>\n",
       "    </tr>\n",
       "    <tr>\n",
       "      <th>16606</th>\n",
       "      <td>9hvp</td>\n",
       "      <td>8.35</td>\n",
       "      <td>7.477508</td>\n",
       "      <td>test</td>\n",
       "    </tr>\n",
       "    <tr>\n",
       "      <th>16607</th>\n",
       "      <td>9icd</td>\n",
       "      <td>3.90</td>\n",
       "      <td>4.645353</td>\n",
       "      <td>test</td>\n",
       "    </tr>\n",
       "  </tbody>\n",
       "</table>\n",
       "<p>16608 rows × 4 columns</p>\n",
       "</div>"
      ],
      "text/plain": [
       "      pdbid  real  predicted       set\n",
       "0      184l  4.72   4.473598  training\n",
       "1      185l  3.54   4.377691  training\n",
       "2      186l  4.85   4.059655  training\n",
       "3      188l  3.33   3.848346  training\n",
       "4      1a07  6.40   5.654712  training\n",
       "...     ...   ...        ...       ...\n",
       "16603  7kme  4.40   7.965694      test\n",
       "16604  7upj  8.49   7.267036      test\n",
       "16605  8hvp  9.00   6.372945      test\n",
       "16606  9hvp  8.35   7.477508      test\n",
       "16607  9icd  3.90   4.645353      test\n",
       "\n",
       "[16608 rows x 4 columns]"
      ]
     },
     "execution_count": 3,
     "metadata": {},
     "output_type": "execute_result"
    }
   ],
   "source": [
    "results"
   ]
  },
  {
   "cell_type": "code",
   "execution_count": 4,
   "id": "9b494dae",
   "metadata": {},
   "outputs": [],
   "source": [
    "train = results[results['set']=='training']\n",
    "test = results[results['set']=='test']\n",
    "validation = results[results['set']=='validation']"
   ]
  },
  {
   "cell_type": "code",
   "execution_count": 5,
   "id": "c6f4f973",
   "metadata": {},
   "outputs": [],
   "source": [
    "    \n",
    "def rmse(predictions, targets):\n",
    "    return np.sqrt(((predictions - targets) ** 2).mean())\n",
    "\n",
    "def mse(predictions, targets):\n",
    "    return ((predictions - targets) ** 2).mean()\n",
    "\n",
    "def pearson(predictions, targets):\n",
    "    return scipy.stats.pearsonr(predictions, targets)[0]\n",
    "\n",
    "def MAE(predictions, targets):\n",
    "    return sklearn.metrics.mean_absolute_error(targets, predictions)\n",
    "\n",
    "def SD(predictions, targets):\n",
    "    return (((targets - predictions) ** 2).sum() / (len(predictions) - 1)) ** 0.5\n",
    "\n",
    "def performance(predictions, targets):\n",
    "    print(\"RMSE \", rmse(predictions, targets))\n",
    "    print(\"MSE  \", mse(predictions, targets))\n",
    "    print(\"R, p \", pearson(predictions, targets))\n",
    "    print(\"MAE  \", MAE(predictions, targets))\n",
    "    print('SD   ', SD(predictions, targets))"
   ]
  },
  {
   "cell_type": "code",
   "execution_count": 6,
   "id": "5db5add2",
   "metadata": {},
   "outputs": [
    {
     "name": "stdout",
     "output_type": "stream",
     "text": [
      "testing on fold0\n",
      "RMSE  1.6672159351672096\n",
      "MSE   2.7796089744754733\n",
      "R, p  0.5466823816433415\n",
      "MAE   1.3016480351286817\n",
      "SD    1.6673665350442313\n"
     ]
    }
   ],
   "source": [
    "print(\"testing on fold0\")\n",
    "performance(np.array(test['predicted'].values), np.array(test['real'].values))"
   ]
  },
  {
   "cell_type": "code",
   "execution_count": 7,
   "id": "a06af019",
   "metadata": {},
   "outputs": [
    {
     "name": "stdout",
     "output_type": "stream",
     "text": [
      "RMSE  1.1458313370716544\n",
      "MSE   1.3129294530154154\n",
      "R, p  0.7834116160841501\n",
      "MAE   0.8976304338251058\n",
      "SD    1.1458882233239955\n"
     ]
    }
   ],
   "source": [
    "performance(np.array(train['predicted'].values), np.array(train['real'].values))"
   ]
  },
  {
   "cell_type": "code",
   "execution_count": 8,
   "id": "4044d24a",
   "metadata": {},
   "outputs": [
    {
     "name": "stdout",
     "output_type": "stream",
     "text": [
      "RMSE  1.3920950071093783\n",
      "MSE   1.9379285088188598\n",
      "R, p  0.6718397285613916\n",
      "MAE   1.0642149850177767\n",
      "SD    1.3927915770839712\n"
     ]
    }
   ],
   "source": [
    "performance(np.array(validation['predicted'].values), np.array(validation['real'].values))"
   ]
  },
  {
   "cell_type": "code",
   "execution_count": null,
   "id": "1f5d4bb7",
   "metadata": {},
   "outputs": [],
   "source": []
  }
 ],
 "metadata": {
  "kernelspec": {
   "display_name": "Python 3",
   "language": "python",
   "name": "python3"
  },
  "language_info": {
   "codemirror_mode": {
    "name": "ipython",
    "version": 3
   },
   "file_extension": ".py",
   "mimetype": "text/x-python",
   "name": "python",
   "nbconvert_exporter": "python",
   "pygments_lexer": "ipython3",
   "version": "3.6.13"
  }
 },
 "nbformat": 4,
 "nbformat_minor": 5
}
