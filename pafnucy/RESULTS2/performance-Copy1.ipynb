{
 "cells": [
  {
   "cell_type": "code",
   "execution_count": 1,
   "id": "125d4f4c",
   "metadata": {},
   "outputs": [],
   "source": [
    "import pandas as pd\n",
    "import numpy as np\n",
    "import scipy \n",
    "import sklearn.metrics"
   ]
  },
  {
   "cell_type": "code",
   "execution_count": 2,
   "id": "c2b025fd",
   "metadata": {},
   "outputs": [],
   "source": [
    "results = pd.read_csv('./output-2021-11-04T14:08:13-predictions.csv')"
   ]
  },
  {
   "cell_type": "code",
   "execution_count": 3,
   "id": "ad0b1f7c",
   "metadata": {},
   "outputs": [
    {
     "data": {
      "text/html": [
       "<div>\n",
       "<style scoped>\n",
       "    .dataframe tbody tr th:only-of-type {\n",
       "        vertical-align: middle;\n",
       "    }\n",
       "\n",
       "    .dataframe tbody tr th {\n",
       "        vertical-align: top;\n",
       "    }\n",
       "\n",
       "    .dataframe thead th {\n",
       "        text-align: right;\n",
       "    }\n",
       "</style>\n",
       "<table border=\"1\" class=\"dataframe\">\n",
       "  <thead>\n",
       "    <tr style=\"text-align: right;\">\n",
       "      <th></th>\n",
       "      <th>pdbid</th>\n",
       "      <th>real</th>\n",
       "      <th>predicted</th>\n",
       "      <th>set</th>\n",
       "    </tr>\n",
       "  </thead>\n",
       "  <tbody>\n",
       "    <tr>\n",
       "      <th>0</th>\n",
       "      <td>11gs</td>\n",
       "      <td>5.82</td>\n",
       "      <td>6.516645</td>\n",
       "      <td>training</td>\n",
       "    </tr>\n",
       "    <tr>\n",
       "      <th>1</th>\n",
       "      <td>13gs</td>\n",
       "      <td>4.62</td>\n",
       "      <td>5.736515</td>\n",
       "      <td>training</td>\n",
       "    </tr>\n",
       "    <tr>\n",
       "      <th>2</th>\n",
       "      <td>16pk</td>\n",
       "      <td>5.22</td>\n",
       "      <td>5.282652</td>\n",
       "      <td>training</td>\n",
       "    </tr>\n",
       "    <tr>\n",
       "      <th>3</th>\n",
       "      <td>1a07</td>\n",
       "      <td>6.40</td>\n",
       "      <td>5.928047</td>\n",
       "      <td>training</td>\n",
       "    </tr>\n",
       "    <tr>\n",
       "      <th>4</th>\n",
       "      <td>1a08</td>\n",
       "      <td>5.62</td>\n",
       "      <td>6.479001</td>\n",
       "      <td>training</td>\n",
       "    </tr>\n",
       "    <tr>\n",
       "      <th>...</th>\n",
       "      <td>...</td>\n",
       "      <td>...</td>\n",
       "      <td>...</td>\n",
       "      <td>...</td>\n",
       "    </tr>\n",
       "    <tr>\n",
       "      <th>14061</th>\n",
       "      <td>5aba</td>\n",
       "      <td>2.98</td>\n",
       "      <td>4.181491</td>\n",
       "      <td>test</td>\n",
       "    </tr>\n",
       "    <tr>\n",
       "      <th>14062</th>\n",
       "      <td>5c28</td>\n",
       "      <td>5.66</td>\n",
       "      <td>5.004452</td>\n",
       "      <td>test</td>\n",
       "    </tr>\n",
       "    <tr>\n",
       "      <th>14063</th>\n",
       "      <td>5c2h</td>\n",
       "      <td>11.09</td>\n",
       "      <td>7.477943</td>\n",
       "      <td>test</td>\n",
       "    </tr>\n",
       "    <tr>\n",
       "      <th>14064</th>\n",
       "      <td>5dwr</td>\n",
       "      <td>11.22</td>\n",
       "      <td>7.045928</td>\n",
       "      <td>test</td>\n",
       "    </tr>\n",
       "    <tr>\n",
       "      <th>14065</th>\n",
       "      <td>5tmn</td>\n",
       "      <td>8.04</td>\n",
       "      <td>5.712963</td>\n",
       "      <td>test</td>\n",
       "    </tr>\n",
       "  </tbody>\n",
       "</table>\n",
       "<p>14066 rows × 4 columns</p>\n",
       "</div>"
      ],
      "text/plain": [
       "      pdbid   real  predicted       set\n",
       "0      11gs   5.82   6.516645  training\n",
       "1      13gs   4.62   5.736515  training\n",
       "2      16pk   5.22   5.282652  training\n",
       "3      1a07   6.40   5.928047  training\n",
       "4      1a08   5.62   6.479001  training\n",
       "...     ...    ...        ...       ...\n",
       "14061  5aba   2.98   4.181491      test\n",
       "14062  5c28   5.66   5.004452      test\n",
       "14063  5c2h  11.09   7.477943      test\n",
       "14064  5dwr  11.22   7.045928      test\n",
       "14065  5tmn   8.04   5.712963      test\n",
       "\n",
       "[14066 rows x 4 columns]"
      ]
     },
     "execution_count": 3,
     "metadata": {},
     "output_type": "execute_result"
    }
   ],
   "source": [
    "results"
   ]
  },
  {
   "cell_type": "code",
   "execution_count": 4,
   "id": "9b494dae",
   "metadata": {},
   "outputs": [],
   "source": [
    "train = results[results['set']=='training']\n",
    "test = results[results['set']=='test']\n",
    "validation = results[results['set']=='validation']"
   ]
  },
  {
   "cell_type": "code",
   "execution_count": 5,
   "id": "c6f4f973",
   "metadata": {},
   "outputs": [],
   "source": [
    "    \n",
    "def rmse(predictions, targets):\n",
    "    return np.sqrt(((predictions - targets) ** 2).mean())\n",
    "\n",
    "def mse(predictions, targets):\n",
    "    return ((predictions - targets) ** 2).mean()\n",
    "\n",
    "def pearson(predictions, targets):\n",
    "    return scipy.stats.pearsonr(predictions, targets)\n",
    "\n",
    "def MAE(predictions, targets):\n",
    "    return sklearn.metrics.mean_absolute_error(targets, predictions)\n",
    "\n",
    "def SD(predictions, targets):\n",
    "    return (((targets - predictions) ** 2).sum() / (len(predictions) - 1)) ** 0.5\n",
    "\n",
    "def performance(predictions, targets):\n",
    "    print(\"RMSE\", rmse(predictions, targets))\n",
    "    print(\"MSE\", mse(predictions, targets))\n",
    "    print(\"R, p-value\", pearson(predictions, targets))\n",
    "    print(\"MAE\", MAE(predictions, targets))\n",
    "    print('SD', SD(predictions, targets))"
   ]
  },
  {
   "cell_type": "code",
   "execution_count": 6,
   "id": "5db5add2",
   "metadata": {},
   "outputs": [
    {
     "name": "stdout",
     "output_type": "stream",
     "text": [
      "RMSE 1.6907116274794773\n",
      "MSE 2.858505807294303\n",
      "R, p-value (0.7073120326768048, 1.5599385405776423e-44)\n",
      "MAE 1.347321975072225\n",
      "SD 1.693685616809564\n"
     ]
    }
   ],
   "source": [
    "performance(np.array(test['predicted'].values), np.array(test['real'].values))"
   ]
  },
  {
   "cell_type": "code",
   "execution_count": 7,
   "id": "a06af019",
   "metadata": {},
   "outputs": [
    {
     "name": "stdout",
     "output_type": "stream",
     "text": [
      "RMSE 1.2703991850429646\n",
      "MSE 1.6139140893578283\n",
      "R, p-value (0.7191555833705965, 0.0)\n",
      "MAE 0.9945237556524973\n",
      "SD 1.2704488866992518\n"
     ]
    }
   ],
   "source": [
    "performance(np.array(train['predicted'].values), np.array(train['real'].values))"
   ]
  },
  {
   "cell_type": "code",
   "execution_count": 8,
   "id": "4044d24a",
   "metadata": {},
   "outputs": [
    {
     "name": "stdout",
     "output_type": "stream",
     "text": [
      "RMSE 1.503999405598677\n",
      "MSE 2.2620142120411737\n",
      "R, p-value (0.6551513976278833, 1.153400548598165e-123)\n",
      "MAE 1.1703215316486357\n",
      "SD 1.504751969771665\n"
     ]
    }
   ],
   "source": [
    "performance(np.array(validation['predicted'].values), np.array(validation['real'].values))"
   ]
  },
  {
   "cell_type": "code",
   "execution_count": null,
   "id": "1f5d4bb7",
   "metadata": {},
   "outputs": [],
   "source": []
  }
 ],
 "metadata": {
  "kernelspec": {
   "display_name": "Python 3",
   "language": "python",
   "name": "python3"
  },
  "language_info": {
   "codemirror_mode": {
    "name": "ipython",
    "version": 3
   },
   "file_extension": ".py",
   "mimetype": "text/x-python",
   "name": "python",
   "nbconvert_exporter": "python",
   "pygments_lexer": "ipython3",
   "version": "3.6.13"
  }
 },
 "nbformat": 4,
 "nbformat_minor": 5
}
