{
 "cells": [
  {
   "cell_type": "code",
   "execution_count": 1,
   "id": "1cdd5938",
   "metadata": {},
   "outputs": [],
   "source": [
    "import json\n",
    "f = open('./target_seq.txt')\n",
    "target_seqs = json.load(f)\n",
    "f.close()\n",
    "g= open('./SMILES.txt')\n",
    "smiles = json.load(g)\n",
    "g.close()"
   ]
  },
  {
   "cell_type": "code",
   "execution_count": 2,
   "id": "abcf68ea",
   "metadata": {},
   "outputs": [],
   "source": [
    "from Bio.PDB.PDBParser import PDBParser\n",
    "from Bio.PDB.Polypeptide import three_to_one\n",
    "from Bio.PDB.Polypeptide import is_aa\n",
    "from Bio import pairwise2\n",
    "from multiprocessing import Pool, cpu_count\n",
    "from functools import partial\n",
    "import scipy.cluster.hierarchy\n",
    "import numpy as np\n",
    "import sys\n",
    "import argparse\n",
    "import bisect\n",
    "import re\n",
    "import os\n",
    "import fnmatch\n",
    "import pickle\n",
    "import collections\n",
    "from rdkit.Chem import AllChem as Chem\n",
    "from rdkit.Chem import AllChem\n",
    "from rdkit.DataStructs import FingerprintSimilarity as fs\n",
    "from rdkit.Chem.Fingerprints import FingerprintMols\n",
    "import rdkit"
   ]
  },
  {
   "cell_type": "code",
   "execution_count": 3,
   "id": "f094dc5e",
   "metadata": {},
   "outputs": [],
   "source": [
    "def calcDistanceMatrix(targets):\n",
    "    '''compute full pairwise target distance matrix in parallel'''\n",
    "    n = len(targets)\n",
    "    pairs = [(r, c) for r in range(n) for c in range(r+1, n)]  # upper triangle\n",
    "#     print(\"list of pairs\", pairs)\n",
    "\n",
    "    pool = Pool()\n",
    "    function = partial(cUTDM2, targets)\n",
    "    distanceTuples = pool.map(function, pairs)\n",
    "    distanceMatrix = np.zeros((n, n))\n",
    "    for (a, b, distance) in distanceTuples:\n",
    "        distanceMatrix[a][b] = distanceMatrix[b][a] = distance\n",
    "    \n",
    "    print(\"dist mat done\")\n",
    "    return distanceMatrix\n"
   ]
  },
  {
   "cell_type": "code",
   "execution_count": 4,
   "id": "81fc7aff",
   "metadata": {},
   "outputs": [],
   "source": [
    "def cUTDM2(targets, pair):\n",
    "    '''compute distance between target pair'''\n",
    "    (a, b) = pair\n",
    "#     print(\"pair\", pair)\n",
    "\n",
    "    mindist = 1.0\n",
    "    for seq1 in targets[a]:\n",
    "        for seq2 in targets[b]:\n",
    "            score = pairwise2.align.globalxx(seq1, seq2, score_only=True)\n",
    "            length = max(len(seq1), len(seq2))\n",
    "            distance = (length-score)/length\n",
    "            if distance < mindist:\n",
    "                mindist = distance\n",
    "#     print(a, b, mindist)\n",
    "    return (a, b, mindist)"
   ]
  },
  {
   "cell_type": "code",
   "execution_count": 5,
   "id": "012e485b",
   "metadata": {},
   "outputs": [],
   "source": [
    "def get_targets_only():\n",
    "    targets = []\n",
    "    target_names= []\n",
    "    for t in target_seqs:\n",
    "        target_names.append(t)\n",
    "        targets.append(target_seqs[t])\n",
    "    targets = np.reshape(targets, (len(targets), 1))\n",
    "    return target_names, targets"
   ]
  },
  {
   "cell_type": "code",
   "execution_count": 6,
   "id": "c4b44b0a",
   "metadata": {},
   "outputs": [],
   "source": [
    "target_names, targets = get_targets_only()"
   ]
  },
  {
   "cell_type": "markdown",
   "id": "9d33af1f",
   "metadata": {},
   "source": [
    "# Making distance matrix"
   ]
  },
  {
   "cell_type": "code",
   "execution_count": 8,
   "id": "c7f09a17",
   "metadata": {},
   "outputs": [
    {
     "name": "stdout",
     "output_type": "stream",
     "text": [
      "dist mat done\n"
     ]
    }
   ],
   "source": [
    "distanceMatrix = calcDistanceMatrix(targets)"
   ]
  },
  {
   "cell_type": "code",
   "execution_count": 13,
   "id": "bedf7270",
   "metadata": {},
   "outputs": [
    {
     "data": {
      "text/plain": [
       "(229, 229)"
      ]
     },
     "execution_count": 13,
     "metadata": {},
     "output_type": "execute_result"
    }
   ],
   "source": [
    "np.shape(distanceMatrix)"
   ]
  },
  {
   "cell_type": "code",
   "execution_count": 9,
   "id": "d0209e0f",
   "metadata": {},
   "outputs": [],
   "source": [
    "def newcomputeLigandSimilarity():\n",
    "    \n",
    "    fingerprints = dict()\n",
    "    for smile in smiles:\n",
    "        drug_name =smile\n",
    "        smi = smiles[smile]\n",
    "        mol = AllChem.MolFromSmiles(smi)\n",
    "        if mol == None:\n",
    "            mol = AllChem.MolFromSmiles(smi, sanitize=False)\n",
    "        fp = FingerprintMols.FingerprintMol(mol)\n",
    "        fingerprints[smile] = fp\n",
    "    n = len(smiles)\n",
    "    drug_names = list(smiles.keys())\n",
    "    sims = np.zeros((n, n))\n",
    "    for i in range(n):\n",
    "        for j in range(i+1):\n",
    "            fpi = fingerprints[drug_names[i]]\n",
    "            fpj = fingerprints[drug_names[j]]\n",
    "            sim = fs(fpi, fpj)\n",
    "            sims[i, j] = sims[j, i] = sim\n",
    "    return sims, fingerprints"
   ]
  },
  {
   "cell_type": "code",
   "execution_count": 10,
   "id": "f2b1635f",
   "metadata": {},
   "outputs": [],
   "source": [
    "similarityMatrix, fp= newcomputeLigandSimilarity()"
   ]
  },
  {
   "cell_type": "code",
   "execution_count": 12,
   "id": "990fb53c",
   "metadata": {},
   "outputs": [
    {
     "data": {
      "text/plain": [
       "(2111, 2111)"
      ]
     },
     "execution_count": 12,
     "metadata": {},
     "output_type": "execute_result"
    }
   ],
   "source": [
    "ligandsim = similarityMatrix\n",
    "np.shape(ligandsim)"
   ]
  },
  {
   "cell_type": "code",
   "execution_count": 14,
   "id": "bd1bb130",
   "metadata": {},
   "outputs": [],
   "source": [
    "def get_target_lines(file):\n",
    "    file = open(file, 'r')\n",
    "    lines = file.readlines()\n",
    "    ret = collections.defaultdict(list)\n",
    "    \n",
    "    for line in lines:\n",
    "        x = line.split()\n",
    "        targ = x[0]\n",
    "        ret[targ].append(line)\n",
    "\n",
    "    return ret"
   ]
  },
  {
   "cell_type": "code",
   "execution_count": 15,
   "id": "b3109e9f",
   "metadata": {},
   "outputs": [],
   "source": [
    "target_lines = get_target_lines('og_kiba_fname.txt')"
   ]
  },
  {
   "cell_type": "code",
   "execution_count": 16,
   "id": "67b100cd",
   "metadata": {},
   "outputs": [],
   "source": [
    "all_pairs=[]\n",
    "f = open('./og_kiba_fname.txt')\n",
    "lines = f.readlines()\n",
    "c = 0\n",
    "for line in lines:\n",
    "    l = line.split()\n",
    "    all_pairs.append([c,l[0],l[1]])\n",
    "    c= c+1"
   ]
  },
  {
   "cell_type": "code",
   "execution_count": 17,
   "id": "fd82ee23",
   "metadata": {},
   "outputs": [],
   "source": [
    "similarity = 0.5\n",
    "similarity_with_similar_ligand = 0.4\n",
    "ligand_similarity = 0.9\n",
    "threshold = 1 - similarity  # similarity and distance are complementary\n",
    "threshold2 = 1 - similarity_with_similar_ligand\n",
    "ligand_threshold =ligand_similarity"
   ]
  },
  {
   "cell_type": "code",
   "execution_count": 19,
   "id": "424b5fcf",
   "metadata": {},
   "outputs": [],
   "source": [
    "\n",
    "def calcClusterGroups(dists, ligandsim, target_names, t, t2, ligandt, all_pairs):\n",
    "    '''dists is a distance matrix (full) for target_names'''\n",
    "    assigned = set()\n",
    "    groups = []\n",
    "    for i in range(dists.shape[0]):\n",
    "        \n",
    "        if i not in assigned:\n",
    "            group = assignGroup(dists, ligandsim, t, t2,\n",
    "                                ligandt, set([i]), target_names)\n",
    "            groups.append(group)\n",
    "            assigned.update(group)\n",
    "    return [set(target_names[i] for i in g) for g in groups]\n",
    "\n",
    "\n",
    "def assignGroup(dists, ligandsim, t, t2, ligandt, explore, names):\n",
    "    '''group targets that are less than t away from each other and what's in explore'''\n",
    "    group = set(explore)\n",
    "    while explore:\n",
    "        frontier = set()\n",
    "        for i in explore:\n",
    "            for j in range(dists.shape[1]):\n",
    "                if j not in group:\n",
    "                    # add to the group if protein is close by threshold t (these are distances - default 0.5)\n",
    "                    # also add if the ligands are more similar (not distance) than ligandt and\n",
    "                    # the protein is closer than t2 (default 0.8 - meaning more than 20% similar)\n",
    "                    if dists[i][j] < t: # or (ligandsim[i][j] > ligandt and dists[i][j] < t2):\n",
    "                        group.add(j)\n",
    "                        frontier.add(j)\n",
    "\n",
    "        explore = frontier\n",
    "    return group"
   ]
  },
  {
   "cell_type": "code",
   "execution_count": 20,
   "id": "6bf48999",
   "metadata": {},
   "outputs": [],
   "source": [
    "cluster_groups = calcClusterGroups(\n",
    "            distanceMatrix, ligandsim, target_names, threshold, threshold2, ligand_threshold, all_pairs)"
   ]
  },
  {
   "cell_type": "code",
   "execution_count": 29,
   "id": "57810596",
   "metadata": {},
   "outputs": [
    {
     "data": {
      "text/plain": [
       "[{'O00141', 'Q9HBY8'},\n",
       " {'O00311'},\n",
       " {'O00329', 'P42338'},\n",
       " {'O00418'},\n",
       " {'O00444'},\n",
       " {'O14757'},\n",
       " {'O14920', 'O15111'},\n",
       " {'O14965', 'Q96GD4'},\n",
       " {'O15075'},\n",
       " {'O15264', 'P27361', 'P28482', 'P53778', 'Q15759', 'Q16539'},\n",
       " {'O15530'},\n",
       " {'O43293'},\n",
       " {'O43741', 'Q9Y478'},\n",
       " {'O43781'},\n",
       " {'O60285'},\n",
       " {'O60674', 'P23458', 'P29597', 'P52333'},\n",
       " {'O75116', 'Q13464'},\n",
       " {'O75582', 'O75676'},\n",
       " {'O94806', 'Q15139', 'Q9BZL6'},\n",
       " {'O95819', 'Q8N4C8'},\n",
       " {'O96013'},\n",
       " {'O96017'},\n",
       " {'P00519', 'P42684'},\n",
       " {'P00533', 'P04626', 'Q15303'},\n",
       " {'P04049', 'P15056'},\n",
       " {'P04629', 'Q16288', 'Q16620'},\n",
       " {'P05129', 'P05771', 'P17252', 'P24723', 'Q02156', 'Q04759', 'Q05655'},\n",
       " {'P06213', 'P08069'},\n",
       " {'P06239',\n",
       "  'P06241',\n",
       "  'P07947',\n",
       "  'P07948',\n",
       "  'P08631',\n",
       "  'P09769',\n",
       "  'P12931',\n",
       "  'P42685',\n",
       "  'P51451'},\n",
       " {'P06493', 'P11802', 'P24941', 'Q00534', 'Q00535'},\n",
       " {'P07332', 'P16591'},\n",
       " {'P07333', 'P10721'},\n",
       " {'P07949'},\n",
       " {'P08581'},\n",
       " {'P08922'},\n",
       " {'P09619', 'P16234'},\n",
       " {'P11309', 'Q86V86', 'Q9P1W9'},\n",
       " {'P11362', 'P21802', 'P22455', 'P22607'},\n",
       " {'P15735'},\n",
       " {'P17612', 'P22612', 'P22694', 'P51817'},\n",
       " {'P17948', 'P35916', 'P35968'},\n",
       " {'P19784', 'P68400'},\n",
       " {'P23443', 'Q9UBS0'},\n",
       " {'P27448', 'Q7KZI7', 'Q96L34'},\n",
       " {'P29317', 'P29323', 'P54760'},\n",
       " {'P29376'},\n",
       " {'P30291'},\n",
       " {'P30530', 'Q06418'},\n",
       " {'P31749', 'P31751', 'Q9Y243'},\n",
       " {'P34947'},\n",
       " {'P36507', 'Q02750'},\n",
       " {'P36888'},\n",
       " {'P41240', 'P42679'},\n",
       " {'P41279'},\n",
       " {'P41743', 'Q05513'},\n",
       " {'P42336'},\n",
       " {'P42345'},\n",
       " {'P43403', 'P43405'},\n",
       " {'P45983', 'P45984', 'P53779'},\n",
       " {'P48729', 'P48730', 'P49674', 'P78368', 'Q9HCP0', 'Q9Y6M4'},\n",
       " {'P48736'},\n",
       " {'P49137', 'Q16644'},\n",
       " {'P49336', 'Q9BWU1'},\n",
       " {'P49759', 'P49760', 'Q9HAZ1'},\n",
       " {'P49840', 'P49841'},\n",
       " {'P50613'},\n",
       " {'P50750'},\n",
       " {'P51617'},\n",
       " {'P51812', 'Q15418'},\n",
       " {'P51813', 'Q06187', 'Q08881'},\n",
       " {'P51955'},\n",
       " {'P51957'},\n",
       " {'P52564'},\n",
       " {'P53350'},\n",
       " {'P53667'},\n",
       " {'P54619'},\n",
       " {'P54646', 'Q13131'},\n",
       " {'P67870'},\n",
       " {'P78527'},\n",
       " {'P80192', 'Q02779', 'Q16584'},\n",
       " {'Q02763'},\n",
       " {'Q04771'},\n",
       " {'Q04912'},\n",
       " {'Q05397', 'Q14289'},\n",
       " {'Q07912'},\n",
       " {'Q12851', 'Q9Y4K4'},\n",
       " {'Q12866'},\n",
       " {'Q13153', 'Q13177'},\n",
       " {'Q13188'},\n",
       " {'Q13237', 'Q13976'},\n",
       " {'Q13554', 'Q13555', 'Q13557', 'Q9UQM7'},\n",
       " {'Q13627', 'Q9Y463'},\n",
       " {'Q13882'},\n",
       " {'Q14012', 'Q8IU85'},\n",
       " {'Q14164', 'Q9UHD2'},\n",
       " {'Q14680'},\n",
       " {'Q15078'},\n",
       " {'Q15118'},\n",
       " {'Q16512', 'Q16513'},\n",
       " {'Q16566'},\n",
       " {'Q5S007'},\n",
       " {'Q5VT25'},\n",
       " {'Q7L7X3'},\n",
       " {'Q8IW41'},\n",
       " {'Q8NE63'},\n",
       " {'Q8TDC3'},\n",
       " {'Q96KB5'},\n",
       " {'Q96PF2', 'Q9BXA7'},\n",
       " {'Q96RG2'},\n",
       " {'Q96RR4'},\n",
       " {'Q96SB4'},\n",
       " {'Q99683'},\n",
       " {'Q9BUB5', 'Q9HBH9'},\n",
       " {'Q9H0K1'},\n",
       " {'Q9H2G2'},\n",
       " {'Q9H2X6'},\n",
       " {'Q9H3Y6'},\n",
       " {'Q9H4B4'},\n",
       " {'Q9HC98'},\n",
       " {'Q9NR20'},\n",
       " {'Q9NWZ3'},\n",
       " {'Q9NYL2'},\n",
       " {'Q9P289'},\n",
       " {'Q9UBE8'},\n",
       " {'Q9UBF8'},\n",
       " {'Q9UEE5'},\n",
       " {'Q9UGI9', 'Q9UGJ0'},\n",
       " {'Q9UM73'}]"
      ]
     },
     "execution_count": 29,
     "metadata": {},
     "output_type": "execute_result"
    }
   ],
   "source": [
    "cluster_groups"
   ]
  },
  {
   "cell_type": "code",
   "execution_count": 33,
   "id": "31b12d2c",
   "metadata": {},
   "outputs": [],
   "source": [
    "all_pairs_dict ={}\n",
    "for t in target_seqs:\n",
    "    all_pairs_dict.update({t:[]})\n",
    "for i in all_pairs:\n",
    "    t_n=i[1]\n",
    "    smi =i[2]\n",
    "    all_pairs_dict[t_n].append(smi)"
   ]
  },
  {
   "cell_type": "code",
   "execution_count": 93,
   "id": "a084b44a",
   "metadata": {},
   "outputs": [],
   "source": [
    "# all_pairs_dict"
   ]
  },
  {
   "cell_type": "code",
   "execution_count": 89,
   "id": "9e5d3434",
   "metadata": {},
   "outputs": [
    {
     "data": {
      "text/plain": [
       "({'O00141', 'Q9HBY8'}, {'O60674', 'P23458', 'P29597', 'P52333'})"
      ]
     },
     "execution_count": 89,
     "metadata": {},
     "output_type": "execute_result"
    }
   ],
   "source": [
    "a,b = cluster_groups[0], cluster_groups[15]\n",
    "a,b"
   ]
  },
  {
   "cell_type": "code",
   "execution_count": 100,
   "id": "5d77397b",
   "metadata": {},
   "outputs": [],
   "source": [
    "target_seq_index ={}\n",
    "c = 0\n",
    "for t in target_seqs:\n",
    "    target_seq_index.update({t:c})\n",
    "    c = c +1\n",
    "smiles_Seq_index={}\n",
    "smiles_list= list(smiles.values())\n",
    "for i in smiles:\n",
    "    smiles_Seq_index.update({smiles[i]:smiles_list.index(smiles[i])})"
   ]
  },
  {
   "cell_type": "code",
   "execution_count": 106,
   "id": "2eca56c9",
   "metadata": {},
   "outputs": [],
   "source": [
    "def try_merge(set1, set2):\n",
    "    global distanceMatrix\n",
    "    global all_pairs_dict\n",
    "    global ligandsim\n",
    "    new_set=set()\n",
    "    for t1 in set1:\n",
    "        for t2 in set2:\n",
    "            t1_i = target_seq_index[t1]\n",
    "            t2_i = target_seq_index[t2]\n",
    "            \n",
    "            if distanceMatrix[t1_i][t2_i] < 0.6:\n",
    "                for lig1 in all_pairs_dict[t1]:\n",
    "                    for lig2 in all_pairs_dict[t2]: \n",
    "\n",
    "                        l1_i=smiles_Seq_index[lig1]\n",
    "                        l2_i =smiles_Seq_index[lig2]\n",
    "\n",
    "                        if ligandsim[l1_i][l1_j]> 0.9:\n",
    "                            new_set.update(set1)\n",
    "                            new_set.update(set2)\n",
    "\n",
    "                            return new_set\n",
    "    return False"
   ]
  },
  {
   "cell_type": "code",
   "execution_count": null,
   "id": "5ecbeebe",
   "metadata": {},
   "outputs": [],
   "source": []
  },
  {
   "cell_type": "code",
   "execution_count": null,
   "id": "3e1f2739",
   "metadata": {},
   "outputs": [],
   "source": []
  },
  {
   "cell_type": "code",
   "execution_count": 107,
   "id": "01eb75ef",
   "metadata": {},
   "outputs": [],
   "source": [
    "# smiles_Seq_index"
   ]
  },
  {
   "cell_type": "code",
   "execution_count": 108,
   "id": "03649443",
   "metadata": {},
   "outputs": [],
   "source": [
    "fin = try_merge(a,b)"
   ]
  },
  {
   "cell_type": "code",
   "execution_count": 109,
   "id": "574509d0",
   "metadata": {},
   "outputs": [
    {
     "data": {
      "text/plain": [
       "False"
      ]
     },
     "execution_count": 109,
     "metadata": {},
     "output_type": "execute_result"
    }
   ],
   "source": [
    "fin"
   ]
  },
  {
   "cell_type": "code",
   "execution_count": 105,
   "id": "a65466cf",
   "metadata": {},
   "outputs": [
    {
     "data": {
      "text/plain": [
       "0.784452296819788"
      ]
     },
     "execution_count": 105,
     "metadata": {},
     "output_type": "execute_result"
    }
   ],
   "source": [
    "t1 = 'Q9HBY8'\n",
    "t2= 'O60674'\n",
    "t1_i = target_seq_index[t1]\n",
    "t2_i = target_seq_index[t2]\n",
    "distanceMatrix[t1_i][t2_i] \n",
    "    "
   ]
  },
  {
   "cell_type": "code",
   "execution_count": null,
   "id": "9161fb2f",
   "metadata": {},
   "outputs": [],
   "source": []
  }
 ],
 "metadata": {
  "kernelspec": {
   "display_name": "Python 3",
   "language": "python",
   "name": "python3"
  },
  "language_info": {
   "codemirror_mode": {
    "name": "ipython",
    "version": 3
   },
   "file_extension": ".py",
   "mimetype": "text/x-python",
   "name": "python",
   "nbconvert_exporter": "python",
   "pygments_lexer": "ipython3",
   "version": "3.6.13"
  }
 },
 "nbformat": 4,
 "nbformat_minor": 5
}
