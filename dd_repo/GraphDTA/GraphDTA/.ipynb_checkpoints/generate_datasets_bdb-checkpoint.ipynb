{
 "cells": [
  {
   "cell_type": "code",
   "execution_count": 2,
   "id": "91b65e79",
   "metadata": {},
   "outputs": [],
   "source": [
    "import pandas as pd\n",
    "import numpy as np\n",
    "import os\n",
    "import json,pickle\n",
    "from collections import OrderedDict\n",
    "from rdkit import Chem\n",
    "from rdkit.Chem import MolFromSmiles\n",
    "import networkx as nx\n",
    "from utils import *\n",
    "\n"
   ]
  },
  {
   "cell_type": "code",
   "execution_count": 3,
   "id": "7395c717",
   "metadata": {},
   "outputs": [],
   "source": [
    "all_3_folds={}\n",
    "for i in [0,1,2]:\n",
    "    file_name = 'fold' +str(i)  \n",
    "\n",
    "    temp = open('./data/bdb/BDB_' + file_name +'.csv')\n",
    "#     temp = open('./data/kiba/KIBA_3_FOLDS/' + file_name + '.pkl', 'rb')\n",
    "    new_df = pd.read_csv(temp)\n",
    "    all_3_folds.update({file_name:new_df})\n",
    "    temp.close()\n"
   ]
  },
  {
   "cell_type": "code",
   "execution_count": null,
   "id": "5a90e948",
   "metadata": {},
   "outputs": [],
   "source": []
  },
  {
   "cell_type": "code",
   "execution_count": 5,
   "id": "0b440e66",
   "metadata": {},
   "outputs": [],
   "source": [
    "def convert_y_unit(y, from_, to_):\n",
    "\tarray_flag = False\n",
    "\tif isinstance(y, (int, float)):\n",
    "\t\ty = np.array([y])\n",
    "\t\tarray_flag = True\n",
    "\ty = y.astype(float)    \n",
    "\t# basis as nM\n",
    "\tif from_ == 'nM':\n",
    "\t\ty = y\n",
    "\telif from_ == 'p':\n",
    "\t\ty = 10**(-y) / 1e-9\n",
    "\n",
    "\tif to_ == 'p':\n",
    "\t\tzero_idxs = np.where(y == 0.)[0]\n",
    "\t\ty[zero_idxs] = 1e-10\n",
    "\t\ty = -np.log10(y*1e-9)\n",
    "\telif to_ == 'nM':\n",
    "\t\ty = y\n",
    "        \n",
    "\tif array_flag:\n",
    "\t\treturn y[0]\n",
    "\treturn y"
   ]
  },
  {
   "cell_type": "code",
   "execution_count": 6,
   "id": "519441e0",
   "metadata": {},
   "outputs": [],
   "source": [
    "def create_df(df, biomark):\n",
    "    df=df.fillna(0)\n",
    "    df['Label']='-'\n",
    "    for i, row in df.iterrows():\n",
    "\n",
    "        val = row[ biomark + ' (nM)']\n",
    "        try:\n",
    "            val = float(val)\n",
    "        except:\n",
    "            pass\n",
    "        if i%1000==0:\n",
    "            print(i)\n",
    "        if isinstance(val, float):\n",
    "            df.at[i,'Label'] = val\n",
    "        else:\n",
    "            if val[0] == '<':\n",
    "                df.at[i, 'Label'] = val.split('<')[1]\n",
    "            if val[0] == '>':\n",
    "                df.at[i, 'Label'] = val.split('>')[1]\n",
    "                \n",
    "    df =df[['Ligand SMILES','BindingDB Target Chain  Sequence','Label']]\n",
    "    df=df.rename(columns={'Ligand SMILES':'compound_iso_smiles', \n",
    "                    'BindingDB Target Chain  Sequence': 'target_sequence',\n",
    "                         'Label':'affinity'})\n",
    "    return df"
   ]
  },
  {
   "cell_type": "code",
   "execution_count": 7,
   "id": "309ee758",
   "metadata": {},
   "outputs": [],
   "source": [
    "biomark = 'IC50'"
   ]
  },
  {
   "cell_type": "code",
   "execution_count": null,
   "id": "a092ccd0",
   "metadata": {
    "scrolled": true
   },
   "outputs": [
    {
     "name": "stdout",
     "output_type": "stream",
     "text": [
      "0\n",
      "1000\n",
      "2000\n",
      "3000\n",
      "4000\n",
      "5000\n",
      "6000\n",
      "7000\n",
      "8000\n",
      "9000\n",
      "10000\n",
      "11000\n",
      "12000\n",
      "13000\n",
      "14000\n",
      "15000\n",
      "16000\n",
      "17000\n",
      "18000\n",
      "19000\n",
      "20000\n",
      "21000\n",
      "22000\n",
      "23000\n",
      "24000\n",
      "25000\n",
      "26000\n",
      "27000\n",
      "28000\n",
      "29000\n",
      "30000\n",
      "31000\n",
      "32000\n",
      "33000\n",
      "34000\n",
      "35000\n",
      "36000\n",
      "37000\n",
      "38000\n",
      "39000\n",
      "40000\n",
      "41000\n",
      "42000\n",
      "43000\n",
      "44000\n",
      "45000\n",
      "46000\n",
      "47000\n",
      "48000\n",
      "49000\n",
      "50000\n",
      "51000\n",
      "52000\n",
      "53000\n",
      "54000\n",
      "55000\n",
      "56000\n",
      "57000\n",
      "58000\n",
      "59000\n",
      "60000\n",
      "61000\n",
      "62000\n",
      "63000\n",
      "64000\n",
      "65000\n",
      "66000\n",
      "67000\n",
      "68000\n",
      "69000\n",
      "70000\n",
      "71000\n",
      "72000\n",
      "73000\n",
      "74000\n",
      "75000\n",
      "76000\n",
      "77000\n",
      "78000\n",
      "79000\n",
      "80000\n",
      "81000\n",
      "82000\n",
      "83000\n",
      "84000\n",
      "85000\n",
      "86000\n",
      "87000\n",
      "88000\n",
      "89000\n",
      "90000\n",
      "91000\n",
      "92000\n",
      "93000\n",
      "94000\n",
      "95000\n",
      "96000\n",
      "97000\n",
      "98000\n",
      "99000\n",
      "100000\n",
      "101000\n",
      "102000\n",
      "103000\n",
      "104000\n",
      "105000\n",
      "106000\n",
      "107000\n",
      "108000\n",
      "109000\n",
      "110000\n",
      "111000\n",
      "112000\n",
      "113000\n",
      "114000\n",
      "115000\n",
      "116000\n",
      "117000\n",
      "118000\n",
      "119000\n",
      "120000\n",
      "121000\n",
      "122000\n",
      "123000\n",
      "124000\n",
      "125000\n",
      "126000\n",
      "127000\n",
      "128000\n",
      "129000\n",
      "130000\n",
      "131000\n",
      "132000\n",
      "133000\n",
      "134000\n",
      "135000\n",
      "136000\n",
      "137000\n",
      "138000\n",
      "139000\n",
      "140000\n",
      "141000\n",
      "142000\n",
      "143000\n",
      "144000\n",
      "145000\n",
      "146000\n",
      "147000\n",
      "148000\n",
      "149000\n",
      "150000\n",
      "151000\n",
      "152000\n",
      "153000\n",
      "154000\n",
      "155000\n",
      "156000\n",
      "157000\n",
      "158000\n",
      "159000\n",
      "160000\n",
      "161000\n",
      "162000\n",
      "163000\n",
      "164000\n",
      "165000\n",
      "166000\n",
      "167000\n",
      "168000\n",
      "169000\n",
      "170000\n",
      "171000\n",
      "172000\n",
      "173000\n",
      "174000\n",
      "175000\n",
      "176000\n",
      "177000\n",
      "178000\n",
      "179000\n",
      "180000\n",
      "181000\n",
      "182000\n",
      "183000\n",
      "184000\n",
      "185000\n",
      "186000\n",
      "187000\n",
      "188000\n",
      "189000\n",
      "190000\n",
      "191000\n",
      "192000\n",
      "193000\n",
      "194000\n",
      "195000\n",
      "196000\n",
      "197000\n",
      "198000\n",
      "199000\n",
      "200000\n",
      "201000\n",
      "202000\n",
      "203000\n",
      "204000\n",
      "205000\n",
      "206000\n",
      "207000\n",
      "208000\n",
      "209000\n",
      "210000\n",
      "211000\n",
      "212000\n",
      "213000\n",
      "214000\n",
      "215000\n",
      "216000\n",
      "217000\n",
      "218000\n",
      "219000\n",
      "220000\n",
      "221000\n",
      "222000\n",
      "223000\n",
      "224000\n",
      "225000\n",
      "226000\n",
      "227000\n",
      "228000\n",
      "229000\n",
      "230000\n",
      "231000\n",
      "232000\n",
      "233000\n",
      "234000\n",
      "235000\n",
      "236000\n",
      "237000\n",
      "238000\n",
      "239000\n",
      "240000\n",
      "241000\n",
      "242000\n",
      "243000\n",
      "244000\n",
      "245000\n",
      "246000\n",
      "247000\n",
      "248000\n",
      "249000\n",
      "250000\n",
      "251000\n",
      "252000\n",
      "253000\n",
      "254000\n",
      "255000\n",
      "256000\n",
      "257000\n",
      "258000\n",
      "259000\n",
      "260000\n",
      "261000\n",
      "262000\n",
      "263000\n",
      "264000\n",
      "265000\n",
      "266000\n",
      "267000\n",
      "268000\n",
      "269000\n",
      "270000\n",
      "271000\n",
      "272000\n",
      "273000\n",
      "274000\n",
      "275000\n",
      "276000\n",
      "277000\n",
      "278000\n",
      "279000\n",
      "280000\n",
      "281000\n",
      "282000\n",
      "283000\n",
      "284000\n",
      "285000\n",
      "286000\n",
      "287000\n",
      "288000\n",
      "289000\n",
      "290000\n",
      "291000\n",
      "292000\n",
      "293000\n",
      "294000\n",
      "295000\n",
      "296000\n",
      "297000\n",
      "298000\n",
      "299000\n",
      "300000\n",
      "301000\n",
      "302000\n",
      "303000\n",
      "304000\n",
      "305000\n",
      "306000\n",
      "307000\n",
      "308000\n"
     ]
    }
   ],
   "source": [
    "for fold in all_3_folds:\n",
    "    df = all_3_folds[fold].copy()\n",
    "    df = df [df['Ligand SMILES'].notnull() & df['BindingDB Target Chain  Sequence'].notnull()]\n",
    "    df = df.reset_index(drop=True)\n",
    "    df= df[df[biomark + ' (nM)'].notnull()].reset_index(drop=True)\n",
    "    df = create_df(df, biomark)\n",
    "    df['affinity'] = convert_y_unit(df['affinity'].values, 'nM', 'p')\n",
    "    all_3_folds[fold] = df.copy()\n",
    "    \n"
   ]
  },
  {
   "cell_type": "code",
   "execution_count": 7,
   "id": "5deec069",
   "metadata": {},
   "outputs": [],
   "source": [
    "test= all_3_folds['fold0']"
   ]
  },
  {
   "cell_type": "code",
   "execution_count": 8,
   "id": "ea042490",
   "metadata": {},
   "outputs": [],
   "source": [
    "train = pd.concat([all_3_folds['fold1'], all_3_folds['fold2']], ignore_index=True).reset_index(drop=True)"
   ]
  },
  {
   "cell_type": "code",
   "execution_count": 9,
   "id": "b197e23e",
   "metadata": {},
   "outputs": [],
   "source": [
    "test=test.sample(frac=0.01).reset_index(drop=True)\n",
    "train=train.sample(frac=0.01).reset_index(drop=True)"
   ]
  },
  {
   "cell_type": "code",
   "execution_count": 110,
   "id": "155674a6",
   "metadata": {},
   "outputs": [],
   "source": [
    "def atom_features(atom):\n",
    "    return np.array(one_of_k_encoding_unk(atom.GetSymbol(),['C', 'N', 'O', 'S', 'F', 'Si', 'P', 'Cl', 'Br', 'Mg', 'Na','Ca', 'Fe', 'As', 'Al', 'I', 'B', 'V', 'K', 'Tl', 'Yb','Sb', 'Sn', 'Ag', 'Pd', 'Co', 'Se', 'Ti', 'Zn', 'H','Li', 'Ge', 'Cu', 'Au', 'Ni', 'Cd', 'In', 'Mn', 'Zr','Cr', 'Pt', 'Hg', 'Pb', 'Unknown']) +\n",
    "                    one_of_k_encoding(atom.GetDegree(), [0, 1, 2, 3, 4, 5, 6,7,8,9,10]) +\n",
    "                    one_of_k_encoding_unk(atom.GetTotalNumHs(), [0, 1, 2, 3, 4, 5, 6,7,8,9,10]) +\n",
    "                    one_of_k_encoding_unk(atom.GetImplicitValence(), [0, 1, 2, 3, 4, 5, 6,7,8,9,10]) +\n",
    "                    [atom.GetIsAromatic()])\n",
    "\n",
    "def one_of_k_encoding(x, allowable_set):\n",
    "    if x not in allowable_set:\n",
    "        raise Exception(\"input {0} not in allowable set{1}:\".format(x, allowable_set))\n",
    "    return list(map(lambda s: x == s, allowable_set))\n",
    "\n",
    "def one_of_k_encoding_unk(x, allowable_set):\n",
    "    \"\"\"Maps inputs not in the allowable set to the last element.\"\"\"\n",
    "    if x not in allowable_set:\n",
    "        x = allowable_set[-1]\n",
    "    return list(map(lambda s: x == s, allowable_set))\n",
    "\n",
    "def smile_to_graph(smile):\n",
    "    mol = Chem.MolFromSmiles(smile)\n",
    "    if mol is None:\n",
    "        mol = Chem.MolFromSmiles(smile, sanitize=False)\n",
    "    c_size = mol.GetNumAtoms()\n",
    "    \n",
    "    features = []\n",
    "    for atom in mol.GetAtoms():\n",
    "        feature = atom_features(atom)\n",
    "        features.append( feature / sum(feature) )\n",
    "\n",
    "    edges = []\n",
    "    for bond in mol.GetBonds():\n",
    "        edges.append([bond.GetBeginAtomIdx(), bond.GetEndAtomIdx()])\n",
    "    g = nx.Graph(edges).to_directed()\n",
    "    edge_index = []\n",
    "    for e1, e2 in g.edges:\n",
    "        edge_index.append([e1, e2])\n",
    "        \n",
    "    return c_size, features, edge_index\n",
    "\n",
    "def seq_cat(prot):\n",
    "    x = np.zeros(max_seq_len)\n",
    "    for i, ch in enumerate(prot[:max_seq_len]): \n",
    "        ch = ch.upper()\n",
    "        if ch in \"ABCDEFGHIKLMNOPQRSTUVWXYZ\":\n",
    "            x[i] = seq_dict[ch]\n",
    "        else:\n",
    "            x[i] = '1'\n",
    "    return x  \n",
    "  "
   ]
  },
  {
   "cell_type": "code",
   "execution_count": 111,
   "id": "fe8d29a6",
   "metadata": {},
   "outputs": [],
   "source": [
    "seq_voc = \"ABCDEFGHIKLMNOPQRSTUVWXYZ\"\n",
    "seq_dict = {v:(i+1) for i,v in enumerate(seq_voc)}\n",
    "seq_dict_len = len(seq_dict)\n",
    "max_seq_len = 1000\n",
    "smile_graph = {}\n"
   ]
  },
  {
   "cell_type": "code",
   "execution_count": 12,
   "id": "f1004aac",
   "metadata": {},
   "outputs": [
    {
     "name": "stderr",
     "output_type": "stream",
     "text": [
      "RDKit ERROR: [14:13:23] Can't kekulize mol.  Unkekulized atoms: 1 4 6\n",
      "RDKit ERROR: \n",
      "[14:13:23] Can't kekulize mol.  Unkekulized atoms: 1 4 6\n",
      "\n"
     ]
    },
    {
     "name": "stdout",
     "output_type": "stream",
     "text": [
      "16\n"
     ]
    },
    {
     "name": "stderr",
     "output_type": "stream",
     "text": [
      "RDKit ERROR: [14:13:23] \n",
      "[14:13:23] \n",
      "\n",
      "****\n",
      "Pre-condition Violation\n",
      "getNumImplicitHs() called without preceding call to calcImplicitValence()\n",
      "Violation occurred on line 188 in file /home/conda/feedstock_root/build_artifacts/rdkit_1626029732763/work/Code/GraphMol/Atom.cpp\n",
      "Failed Expression: d_implicitValence > -1\n",
      "****\n",
      "\n",
      "[14:13:31] Can't kekulize mol.  Unkekulized atoms: 1 2 6\n",
      "\n",
      "RDKit ERROR: \n",
      "RDKit ERROR: ****\n",
      "RDKit ERROR: Pre-condition Violation\n",
      "RDKit ERROR: getNumImplicitHs() called without preceding call to calcImplicitValence()\n",
      "RDKit ERROR: Violation occurred on line 188 in file /home/conda/feedstock_root/build_artifacts/rdkit_1626029732763/work/Code/GraphMol/Atom.cpp\n",
      "RDKit ERROR: Failed Expression: d_implicitValence > -1\n",
      "RDKit ERROR: ****\n",
      "RDKit ERROR: \n",
      "RDKit ERROR: [14:13:31] Can't kekulize mol.  Unkekulized atoms: 1 2 6\n",
      "RDKit ERROR: \n"
     ]
    },
    {
     "name": "stdout",
     "output_type": "stream",
     "text": [
      "1333\n"
     ]
    },
    {
     "name": "stderr",
     "output_type": "stream",
     "text": [
      "RDKit ERROR: [14:13:31] \n",
      "RDKit ERROR: \n",
      "RDKit ERROR: ****\n",
      "RDKit ERROR: Pre-condition Violation\n",
      "RDKit ERROR: getNumImplicitHs() called without preceding call to calcImplicitValence()\n",
      "RDKit ERROR: Violation occurred on line 188 in file /home/conda/feedstock_root/build_artifacts/rdkit_1626029732763/work/Code/GraphMol/Atom.cpp\n",
      "RDKit ERROR: Failed Expression: d_implicitValence > -1\n",
      "RDKit ERROR: ****\n",
      "RDKit ERROR: \n",
      "RDKit ERROR: [14:13:33] Can't kekulize mol.  Unkekulized atoms: 2 3 5 36 38\n",
      "RDKit ERROR: \n",
      "[14:13:31] \n",
      "\n",
      "****\n",
      "Pre-condition Violation\n",
      "getNumImplicitHs() called without preceding call to calcImplicitValence()\n",
      "Violation occurred on line 188 in file /home/conda/feedstock_root/build_artifacts/rdkit_1626029732763/work/Code/GraphMol/Atom.cpp\n",
      "Failed Expression: d_implicitValence > -1\n",
      "****\n",
      "\n",
      "[14:13:33] Can't kekulize mol.  Unkekulized atoms: 2 3 5 36 38\n",
      "\n",
      "RDKit ERROR: [14:13:33] \n",
      "[14:13:33] \n",
      "\n",
      "****\n",
      "Pre-condition Violation\n",
      "getNumImplicitHs() called without preceding call to calcImplicitValence()\n",
      "Violation occurred on line 188 in file /home/conda/feedstock_root/build_artifacts/rdkit_1626029732763/work/Code/GraphMol/Atom.cpp\n",
      "Failed Expression: d_implicitValence > -1\n",
      "****\n",
      "\n",
      "[14:13:36] Can't kekulize mol.  Unkekulized atoms: 14 15 16 17 18 19 20 21 22\n",
      "\n",
      "RDKit ERROR: \n",
      "RDKit ERROR: ****\n",
      "RDKit ERROR: Pre-condition Violation\n",
      "RDKit ERROR: getNumImplicitHs() called without preceding call to calcImplicitValence()\n",
      "RDKit ERROR: Violation occurred on line 188 in file /home/conda/feedstock_root/build_artifacts/rdkit_1626029732763/work/Code/GraphMol/Atom.cpp\n",
      "RDKit ERROR: Failed Expression: d_implicitValence > -1\n",
      "RDKit ERROR: ****\n",
      "RDKit ERROR: \n",
      "RDKit ERROR: [14:13:36] Can't kekulize mol.  Unkekulized atoms: 14 15 16 17 18 19 20 21 22\n",
      "RDKit ERROR: \n"
     ]
    },
    {
     "name": "stdout",
     "output_type": "stream",
     "text": [
      "1616\n",
      "2084\n"
     ]
    },
    {
     "name": "stderr",
     "output_type": "stream",
     "text": [
      "RDKit ERROR: [14:13:36] \n",
      "[14:13:36] \n",
      "\n",
      "****\n",
      "Pre-condition Violation\n",
      "getNumImplicitHs() called without preceding call to calcImplicitValence()\n",
      "Violation occurred on line 188 in file /home/conda/feedstock_root/build_artifacts/rdkit_1626029732763/work/Code/GraphMol/Atom.cpp\n",
      "Failed Expression: d_implicitValence > -1\n",
      "****\n",
      "\n",
      "[14:13:38] Explicit valence for atom # 12 N, 4, is greater than permitted\n",
      "RDKit ERROR: \n",
      "RDKit ERROR: ****\n",
      "RDKit ERROR: Pre-condition Violation\n",
      "RDKit ERROR: getNumImplicitHs() called without preceding call to calcImplicitValence()\n",
      "RDKit ERROR: Violation occurred on line 188 in file /home/conda/feedstock_root/build_artifacts/rdkit_1626029732763/work/Code/GraphMol/Atom.cpp\n",
      "RDKit ERROR: Failed Expression: d_implicitValence > -1\n",
      "RDKit ERROR: ****\n",
      "RDKit ERROR: \n",
      "RDKit ERROR: [14:13:38] Explicit valence for atom # 12 N, 4, is greater than permitted\n",
      "RDKit ERROR: [14:13:38] \n",
      "[14:13:38] \n",
      "\n",
      "****\n",
      "Pre-condition Violation\n",
      "getNumImplicitHs() called without preceding call to calcImplicitValence()\n",
      "Violation occurred on line 188 in file /home/conda/feedstock_root/build_artifacts/rdkit_1626029732763/work/Code/GraphMol/Atom.cpp\n",
      "Failed Expression: d_implicitValence > -1\n",
      "****\n",
      "\n",
      "[14:13:38] Can't kekulize mol.  Unkekulized atoms: 10 11 12 13 14 15 16 17 18\n",
      "\n",
      "RDKit ERROR: \n",
      "RDKit ERROR: ****\n",
      "RDKit ERROR: Pre-condition Violation\n",
      "RDKit ERROR: getNumImplicitHs() called without preceding call to calcImplicitValence()\n",
      "RDKit ERROR: Violation occurred on line 188 in file /home/conda/feedstock_root/build_artifacts/rdkit_1626029732763/work/Code/GraphMol/Atom.cpp\n",
      "RDKit ERROR: Failed Expression: d_implicitValence > -1\n",
      "RDKit ERROR: ****\n",
      "RDKit ERROR: \n",
      "RDKit ERROR: [14:13:38] Can't kekulize mol.  Unkekulized atoms: 10 11 12 13 14 15 16 17 18\n",
      "RDKit ERROR: \n"
     ]
    },
    {
     "name": "stdout",
     "output_type": "stream",
     "text": [
      "2538\n",
      "2553\n"
     ]
    },
    {
     "name": "stderr",
     "output_type": "stream",
     "text": [
      "RDKit ERROR: [14:13:38] \n",
      "RDKit ERROR: \n",
      "RDKit ERROR: ****\n",
      "RDKit ERROR: Pre-condition Violation\n",
      "RDKit ERROR: getNumImplicitHs() called without preceding call to calcImplicitValence()\n",
      "RDKit ERROR: Violation occurred on line 188 in file /home/conda/feedstock_root/build_artifacts/rdkit_1626029732763/work/Code/GraphMol/Atom.cpp\n",
      "RDKit ERROR: Failed Expression: d_implicitValence > -1\n",
      "RDKit ERROR: ****\n",
      "RDKit ERROR: \n",
      "RDKit ERROR: [14:13:39] Can't kekulize mol.  Unkekulized atoms: 27 28 29 30 38\n",
      "RDKit ERROR: \n",
      "[14:13:38] \n",
      "\n",
      "****\n",
      "Pre-condition Violation\n",
      "getNumImplicitHs() called without preceding call to calcImplicitValence()\n",
      "Violation occurred on line 188 in file /home/conda/feedstock_root/build_artifacts/rdkit_1626029732763/work/Code/GraphMol/Atom.cpp\n",
      "Failed Expression: d_implicitValence > -1\n",
      "****\n",
      "\n",
      "[14:13:39] Can't kekulize mol.  Unkekulized atoms: 27 28 29 30 38\n",
      "\n",
      "RDKit ERROR: [14:13:39] \n",
      "[14:13:39] \n",
      "\n",
      "****\n",
      "Pre-condition Violation\n",
      "getNumImplicitHs() called without preceding call to calcImplicitValence()\n",
      "Violation occurred on line 188 in file /home/conda/feedstock_root/build_artifacts/rdkit_1626029732763/work/Code/GraphMol/Atom.cpp\n",
      "Failed Expression: d_implicitValence > -1\n",
      "****\n",
      "\n",
      "[14:13:44] Can't kekulize mol.  Unkekulized atoms: 19 20 22 23 25\n",
      "\n",
      "RDKit ERROR: \n",
      "RDKit ERROR: ****\n",
      "RDKit ERROR: Pre-condition Violation\n",
      "RDKit ERROR: getNumImplicitHs() called without preceding call to calcImplicitValence()\n",
      "RDKit ERROR: Violation occurred on line 188 in file /home/conda/feedstock_root/build_artifacts/rdkit_1626029732763/work/Code/GraphMol/Atom.cpp\n",
      "RDKit ERROR: Failed Expression: d_implicitValence > -1\n",
      "RDKit ERROR: ****\n",
      "RDKit ERROR: \n",
      "RDKit ERROR: [14:13:44] Can't kekulize mol.  Unkekulized atoms: 19 20 22 23 25\n",
      "RDKit ERROR: \n"
     ]
    },
    {
     "name": "stdout",
     "output_type": "stream",
     "text": [
      "2625\n",
      "3593\n"
     ]
    },
    {
     "name": "stderr",
     "output_type": "stream",
     "text": [
      "RDKit ERROR: [14:13:44] \n",
      "[14:13:44] \n",
      "\n",
      "****\n",
      "Pre-condition Violation\n",
      "getNumImplicitHs() called without preceding call to calcImplicitValence()\n",
      "Violation occurred on line 188 in file /home/conda/feedstock_root/build_artifacts/rdkit_1626029732763/work/Code/GraphMol/Atom.cpp\n",
      "Failed Expression: d_implicitValence > -1\n",
      "****\n",
      "\n",
      "[14:13:46] Explicit valence for atom # 11 H, 2, is greater than permitted\n",
      "RDKit ERROR: \n",
      "RDKit ERROR: ****\n",
      "RDKit ERROR: Pre-condition Violation\n",
      "RDKit ERROR: getNumImplicitHs() called without preceding call to calcImplicitValence()\n",
      "RDKit ERROR: Violation occurred on line 188 in file /home/conda/feedstock_root/build_artifacts/rdkit_1626029732763/work/Code/GraphMol/Atom.cpp\n",
      "RDKit ERROR: Failed Expression: d_implicitValence > -1\n",
      "RDKit ERROR: ****\n",
      "RDKit ERROR: \n",
      "RDKit ERROR: [14:13:46] Explicit valence for atom # 11 H, 2, is greater than permitted\n",
      "RDKit ERROR: [14:13:46] \n",
      "RDKit ERROR: \n",
      "RDKit ERROR: ****\n",
      "RDKit ERROR: Pre-condition Violation\n",
      "RDKit ERROR: getNumImplicitHs() called without preceding call to calcImplicitValence()\n",
      "RDKit ERROR: Violation occurred on line 188 in file /home/conda/feedstock_root/build_artifacts/rdkit_1626029732763/work/Code/GraphMol/Atom.cpp\n",
      "RDKit ERROR: Failed Expression: d_implicitValence > -1\n",
      "RDKit ERROR: ****\n",
      "RDKit ERROR: \n",
      "RDKit ERROR: [14:13:48] Can't kekulize mol.  Unkekulized atoms: 19 20 22 23 25\n",
      "RDKit ERROR: \n",
      "[14:13:46] \n",
      "\n",
      "****\n",
      "Pre-condition Violation\n",
      "getNumImplicitHs() called without preceding call to calcImplicitValence()\n",
      "Violation occurred on line 188 in file /home/conda/feedstock_root/build_artifacts/rdkit_1626029732763/work/Code/GraphMol/Atom.cpp\n",
      "Failed Expression: d_implicitValence > -1\n",
      "****\n",
      "\n",
      "[14:13:48] Can't kekulize mol.  Unkekulized atoms: 19 20 22 23 25\n",
      "\n"
     ]
    },
    {
     "name": "stdout",
     "output_type": "stream",
     "text": [
      "3887\n",
      "4227\n"
     ]
    },
    {
     "name": "stderr",
     "output_type": "stream",
     "text": [
      "RDKit ERROR: [14:13:48] \n",
      "RDKit ERROR: \n",
      "[14:13:48] \n",
      "\n",
      "****\n",
      "Pre-condition Violation\n",
      "getNumImplicitHs() called without preceding call to calcImplicitValence()\n",
      "Violation occurred on line 188 in file /home/conda/feedstock_root/build_artifacts/rdkit_1626029732763/work/Code/GraphMol/Atom.cpp\n",
      "Failed Expression: d_implicitValence > -1\n",
      "****\n",
      "\n",
      "[14:13:54] Can't kekulize mol.  Unkekulized atoms: 18 19 21 22 24\n",
      "\n",
      "RDKit ERROR: ****\n",
      "RDKit ERROR: Pre-condition Violation\n",
      "RDKit ERROR: getNumImplicitHs() called without preceding call to calcImplicitValence()\n",
      "RDKit ERROR: Violation occurred on line 188 in file /home/conda/feedstock_root/build_artifacts/rdkit_1626029732763/work/Code/GraphMol/Atom.cpp\n",
      "RDKit ERROR: Failed Expression: d_implicitValence > -1\n",
      "RDKit ERROR: ****\n",
      "RDKit ERROR: \n",
      "RDKit ERROR: [14:13:54] Can't kekulize mol.  Unkekulized atoms: 18 19 21 22 24\n",
      "RDKit ERROR: \n",
      "RDKit ERROR: [14:13:54] \n",
      "[14:13:54] \n",
      "\n",
      "****\n",
      "Pre-condition Violation\n",
      "getNumImplicitHs() called without preceding call to calcImplicitValence()\n",
      "Violation occurred on line 188 in file /home/conda/feedstock_root/build_artifacts/rdkit_1626029732763/work/Code/GraphMol/Atom.cpp\n",
      "Failed Expression: d_implicitValence > -1\n",
      "****\n",
      "\n",
      "[14:13:57] Can't kekulize mol.  Unkekulized atoms: 2 4 7\n",
      "\n",
      "RDKit ERROR: \n",
      "RDKit ERROR: ****\n",
      "RDKit ERROR: Pre-condition Violation\n",
      "RDKit ERROR: getNumImplicitHs() called without preceding call to calcImplicitValence()\n",
      "RDKit ERROR: Violation occurred on line 188 in file /home/conda/feedstock_root/build_artifacts/rdkit_1626029732763/work/Code/GraphMol/Atom.cpp\n",
      "RDKit ERROR: Failed Expression: d_implicitValence > -1\n",
      "RDKit ERROR: ****\n",
      "RDKit ERROR: \n",
      "RDKit ERROR: [14:13:57] Can't kekulize mol.  Unkekulized atoms: 2 4 7\n",
      "RDKit ERROR: \n"
     ]
    },
    {
     "name": "stdout",
     "output_type": "stream",
     "text": [
      "5094\n",
      "5612\n"
     ]
    },
    {
     "name": "stderr",
     "output_type": "stream",
     "text": [
      "RDKit ERROR: [14:13:57] \n",
      "RDKit ERROR: \n",
      "RDKit ERROR: ****\n",
      "RDKit ERROR: Pre-condition Violation\n",
      "RDKit ERROR: getNumImplicitHs() called without preceding call to calcImplicitValence()\n",
      "RDKit ERROR: Violation occurred on line 188 in file /home/conda/feedstock_root/build_artifacts/rdkit_1626029732763/work/Code/GraphMol/Atom.cpp\n",
      "RDKit ERROR: Failed Expression: d_implicitValence > -1\n",
      "RDKit ERROR: ****\n",
      "RDKit ERROR: \n",
      "RDKit ERROR: [14:13:59] Can't kekulize mol.  Unkekulized atoms: 11 12 13 14 15 16 17 18 19\n",
      "RDKit ERROR: \n",
      "[14:13:57] \n",
      "\n",
      "****\n",
      "Pre-condition Violation\n",
      "getNumImplicitHs() called without preceding call to calcImplicitValence()\n",
      "Violation occurred on line 188 in file /home/conda/feedstock_root/build_artifacts/rdkit_1626029732763/work/Code/GraphMol/Atom.cpp\n",
      "Failed Expression: d_implicitValence > -1\n",
      "****\n",
      "\n",
      "[14:13:59] Can't kekulize mol.  Unkekulized atoms: 11 12 13 14 15 16 17 18 19\n",
      "\n"
     ]
    },
    {
     "name": "stdout",
     "output_type": "stream",
     "text": [
      "5979\n"
     ]
    },
    {
     "name": "stderr",
     "output_type": "stream",
     "text": [
      "RDKit ERROR: [14:13:59] \n",
      "[14:13:59] \n",
      "\n",
      "****\n",
      "Pre-condition Violation\n",
      "getNumImplicitHs() called without preceding call to calcImplicitValence()\n",
      "Violation occurred on line 188 in file /home/conda/feedstock_root/build_artifacts/rdkit_1626029732763/work/Code/GraphMol/Atom.cpp\n",
      "Failed Expression: d_implicitValence > -1\n",
      "****\n",
      "\n",
      "[14:14:03] Explicit valence for atom # 40 C, 5, is greater than permitted\n",
      "RDKit ERROR: \n",
      "RDKit ERROR: ****\n",
      "RDKit ERROR: Pre-condition Violation\n",
      "RDKit ERROR: getNumImplicitHs() called without preceding call to calcImplicitValence()\n",
      "RDKit ERROR: Violation occurred on line 188 in file /home/conda/feedstock_root/build_artifacts/rdkit_1626029732763/work/Code/GraphMol/Atom.cpp\n",
      "RDKit ERROR: Failed Expression: d_implicitValence > -1\n",
      "RDKit ERROR: ****\n",
      "RDKit ERROR: \n",
      "RDKit ERROR: [14:14:03] Explicit valence for atom # 40 C, 5, is greater than permitted\n"
     ]
    },
    {
     "name": "stdout",
     "output_type": "stream",
     "text": [
      "6597\n"
     ]
    }
   ],
   "source": [
    "for i, row in train.iterrows():\n",
    "    smi = row['compound_iso_smiles']\n",
    "    try: \n",
    "        g = smile_to_graph(smi)\n",
    "        smile_graph[smi] = g\n",
    "    except:\n",
    "        print(i)\n",
    "        train.drop(i, inplace=True)\n"
   ]
  },
  {
   "cell_type": "code",
   "execution_count": 13,
   "id": "67a3cbac",
   "metadata": {},
   "outputs": [],
   "source": [
    "train = train.reset_index(drop=True)"
   ]
  },
  {
   "cell_type": "code",
   "execution_count": 14,
   "id": "5d2b8deb",
   "metadata": {
    "scrolled": true
   },
   "outputs": [
    {
     "name": "stderr",
     "output_type": "stream",
     "text": [
      "RDKit ERROR: [14:14:03] \n",
      "[14:14:03] \n",
      "\n",
      "****\n",
      "Pre-condition Violation\n",
      "getNumImplicitHs() called without preceding call to calcImplicitValence()\n",
      "Violation occurred on line 188 in file /home/conda/feedstock_root/build_artifacts/rdkit_1626029732763/work/Code/GraphMol/Atom.cpp\n",
      "Failed Expression: d_implicitValence > -1\n",
      "****\n",
      "\n",
      "[14:14:24] Can't kekulize mol.  Unkekulized atoms: 7 8 9 10 11\n",
      "\n",
      "RDKit ERROR: \n",
      "RDKit ERROR: ****\n",
      "RDKit ERROR: Pre-condition Violation\n",
      "RDKit ERROR: getNumImplicitHs() called without preceding call to calcImplicitValence()\n",
      "RDKit ERROR: Violation occurred on line 188 in file /home/conda/feedstock_root/build_artifacts/rdkit_1626029732763/work/Code/GraphMol/Atom.cpp\n",
      "RDKit ERROR: Failed Expression: d_implicitValence > -1\n",
      "RDKit ERROR: ****\n",
      "RDKit ERROR: \n",
      "RDKit ERROR: [14:14:24] Can't kekulize mol.  Unkekulized atoms: 7 8 9 10 11\n",
      "RDKit ERROR: \n"
     ]
    },
    {
     "name": "stdout",
     "output_type": "stream",
     "text": [
      "1204\n"
     ]
    },
    {
     "name": "stderr",
     "output_type": "stream",
     "text": [
      "RDKit ERROR: [14:14:24] \n",
      "RDKit ERROR: \n",
      "RDKit ERROR: ****\n",
      "RDKit ERROR: Pre-condition Violation\n",
      "[14:14:24] \n",
      "\n",
      "****\n",
      "Pre-condition Violation\n",
      "getNumImplicitHs() called without preceding call to calcImplicitValence()\n",
      "Violation occurred on line 188 in file /home/conda/feedstock_root/build_artifacts/rdkit_1626029732763/work/Code/GraphMol/Atom.cpp\n",
      "Failed Expression: d_implicitValence > -1\n",
      "****\n",
      "\n",
      "[14:14:25] Can't kekulize mol.  Unkekulized atoms: 1 2 3 4 5 6 7 8 9\n",
      "\n",
      "RDKit ERROR: getNumImplicitHs() called without preceding call to calcImplicitValence()\n",
      "RDKit ERROR: Violation occurred on line 188 in file /home/conda/feedstock_root/build_artifacts/rdkit_1626029732763/work/Code/GraphMol/Atom.cpp\n",
      "RDKit ERROR: Failed Expression: d_implicitValence > -1\n",
      "RDKit ERROR: ****\n",
      "RDKit ERROR: \n",
      "RDKit ERROR: [14:14:25] Can't kekulize mol.  Unkekulized atoms: 1 2 3 4 5 6 7 8 9\n",
      "RDKit ERROR: \n"
     ]
    },
    {
     "name": "stdout",
     "output_type": "stream",
     "text": [
      "1357\n"
     ]
    },
    {
     "name": "stderr",
     "output_type": "stream",
     "text": [
      "RDKit ERROR: [14:14:25] \n",
      "RDKit ERROR: \n",
      "RDKit ERROR: ****\n",
      "RDKit ERROR: Pre-condition Violation\n",
      "[14:14:25] \n",
      "\n",
      "****\n",
      "Pre-condition Violation\n",
      "getNumImplicitHs() called without preceding call to calcImplicitValence()\n",
      "Violation occurred on line 188 in file /home/conda/feedstock_root/build_artifacts/rdkit_1626029732763/work/Code/GraphMol/Atom.cpp\n",
      "Failed Expression: d_implicitValence > -1\n",
      "****\n",
      "\n",
      "[14:14:30] Explicit valence for atom # 21 N, 4, is greater than permitted\n",
      "RDKit ERROR: getNumImplicitHs() called without preceding call to calcImplicitValence()\n",
      "RDKit ERROR: Violation occurred on line 188 in file /home/conda/feedstock_root/build_artifacts/rdkit_1626029732763/work/Code/GraphMol/Atom.cpp\n",
      "RDKit ERROR: Failed Expression: d_implicitValence > -1\n",
      "RDKit ERROR: ****\n",
      "RDKit ERROR: \n",
      "RDKit ERROR: [14:14:30] Explicit valence for atom # 21 N, 4, is greater than permitted\n",
      "RDKit ERROR: [14:14:30] \n",
      "[14:14:30] \n",
      "\n",
      "****\n",
      "Pre-condition Violation\n",
      "getNumImplicitHs() called without preceding call to calcImplicitValence()\n",
      "Violation occurred on line 188 in file /home/conda/feedstock_root/build_artifacts/rdkit_1626029732763/work/Code/GraphMol/Atom.cpp\n",
      "Failed Expression: d_implicitValence > -1\n",
      "****\n",
      "\n",
      "[14:14:38] Explicit valence for atom # 32 N, 4, is greater than permitted\n",
      "RDKit ERROR: \n",
      "RDKit ERROR: ****\n",
      "RDKit ERROR: Pre-condition Violation\n",
      "RDKit ERROR: getNumImplicitHs() called without preceding call to calcImplicitValence()\n",
      "RDKit ERROR: Violation occurred on line 188 in file /home/conda/feedstock_root/build_artifacts/rdkit_1626029732763/work/Code/GraphMol/Atom.cpp\n",
      "RDKit ERROR: Failed Expression: d_implicitValence > -1\n",
      "RDKit ERROR: ****\n",
      "RDKit ERROR: \n",
      "RDKit ERROR: [14:14:38] Explicit valence for atom # 32 N, 4, is greater than permitted\n"
     ]
    },
    {
     "name": "stdout",
     "output_type": "stream",
     "text": [
      "2012\n",
      "3305\n"
     ]
    },
    {
     "name": "stderr",
     "output_type": "stream",
     "text": [
      "RDKit ERROR: [14:14:38] \n",
      "RDKit ERROR: \n",
      "RDKit ERROR: ****\n",
      "RDKit ERROR: Pre-condition Violation\n",
      "RDKit ERROR: getNumImplicitHs() called without preceding call to calcImplicitValence()\n",
      "RDKit ERROR: Violation occurred on line 188 in file /home/conda/feedstock_root/build_artifacts/rdkit_1626029732763/work/Code/GraphMol/Atom.cpp\n",
      "RDKit ERROR: Failed Expression: d_implicitValence > -1\n",
      "RDKit ERROR: ****\n",
      "RDKit ERROR: \n",
      "RDKit ERROR: [14:14:39] Explicit valence for atom # 20 N, 4, is greater than permitted\n",
      "[14:14:38] \n",
      "\n",
      "****\n",
      "Pre-condition Violation\n",
      "getNumImplicitHs() called without preceding call to calcImplicitValence()\n",
      "Violation occurred on line 188 in file /home/conda/feedstock_root/build_artifacts/rdkit_1626029732763/work/Code/GraphMol/Atom.cpp\n",
      "Failed Expression: d_implicitValence > -1\n",
      "****\n",
      "\n",
      "[14:14:39] Explicit valence for atom # 20 N, 4, is greater than permitted\n",
      "RDKit ERROR: [14:14:39] \n",
      "RDKit ERROR: \n",
      "RDKit ERROR: ****\n",
      "[14:14:39] \n",
      "\n",
      "****\n",
      "Pre-condition Violation\n",
      "getNumImplicitHs() called without preceding call to calcImplicitValence()\n",
      "Violation occurred on line 188 in file /home/conda/feedstock_root/build_artifacts/rdkit_1626029732763/work/Code/GraphMol/Atom.cpp\n",
      "Failed Expression: d_implicitValence > -1\n",
      "****\n",
      "\n",
      "[14:14:39] Explicit valence for atom # 16 N, 5, is greater than permitted\n",
      "RDKit ERROR: Pre-condition Violation\n",
      "RDKit ERROR: getNumImplicitHs() called without preceding call to calcImplicitValence()\n",
      "RDKit ERROR: Violation occurred on line 188 in file /home/conda/feedstock_root/build_artifacts/rdkit_1626029732763/work/Code/GraphMol/Atom.cpp\n",
      "RDKit ERROR: Failed Expression: d_implicitValence > -1\n",
      "RDKit ERROR: ****\n",
      "RDKit ERROR: \n",
      "RDKit ERROR: [14:14:39] Explicit valence for atom # 16 N, 5, is greater than permitted\n"
     ]
    },
    {
     "name": "stdout",
     "output_type": "stream",
     "text": [
      "3394\n",
      "3410\n"
     ]
    },
    {
     "name": "stderr",
     "output_type": "stream",
     "text": [
      "RDKit ERROR: [14:14:39] \n",
      "[14:14:39] \n",
      "\n",
      "****\n",
      "Pre-condition Violation\n",
      "getNumImplicitHs() called without preceding call to calcImplicitValence()\n",
      "Violation occurred on line 188 in file /home/conda/feedstock_root/build_artifacts/rdkit_1626029732763/work/Code/GraphMol/Atom.cpp\n",
      "Failed Expression: d_implicitValence > -1\n",
      "****\n",
      "\n",
      "[14:14:47] Can't kekulize mol.  Unkekulized atoms: 10 12 13\n",
      "\n",
      "RDKit ERROR: \n",
      "RDKit ERROR: ****\n",
      "RDKit ERROR: Pre-condition Violation\n",
      "RDKit ERROR: getNumImplicitHs() called without preceding call to calcImplicitValence()\n",
      "RDKit ERROR: Violation occurred on line 188 in file /home/conda/feedstock_root/build_artifacts/rdkit_1626029732763/work/Code/GraphMol/Atom.cpp\n",
      "RDKit ERROR: Failed Expression: d_implicitValence > -1\n",
      "RDKit ERROR: ****\n",
      "RDKit ERROR: \n",
      "RDKit ERROR: [14:14:47] Can't kekulize mol.  Unkekulized atoms: 10 12 13\n",
      "RDKit ERROR: \n"
     ]
    },
    {
     "name": "stdout",
     "output_type": "stream",
     "text": [
      "4560\n"
     ]
    },
    {
     "name": "stderr",
     "output_type": "stream",
     "text": [
      "RDKit ERROR: [14:14:47] \n",
      "[14:14:47] \n",
      "\n",
      "****\n",
      "Pre-condition Violation\n",
      "getNumImplicitHs() called without preceding call to calcImplicitValence()\n",
      "Violation occurred on line 188 in file /home/conda/feedstock_root/build_artifacts/rdkit_1626029732763/work/Code/GraphMol/Atom.cpp\n",
      "Failed Expression: d_implicitValence > -1\n",
      "****\n",
      "\n",
      "[14:14:48] Can't kekulize mol.  Unkekulized atoms: 1 2 3 4 5 6 7 8 9\n",
      "\n",
      "RDKit ERROR: \n",
      "RDKit ERROR: ****\n",
      "RDKit ERROR: Pre-condition Violation\n",
      "RDKit ERROR: getNumImplicitHs() called without preceding call to calcImplicitValence()\n",
      "RDKit ERROR: Violation occurred on line 188 in file /home/conda/feedstock_root/build_artifacts/rdkit_1626029732763/work/Code/GraphMol/Atom.cpp\n",
      "RDKit ERROR: Failed Expression: d_implicitValence > -1\n",
      "RDKit ERROR: ****\n",
      "RDKit ERROR: \n",
      "RDKit ERROR: [14:14:48] Can't kekulize mol.  Unkekulized atoms: 1 2 3 4 5 6 7 8 9\n",
      "RDKit ERROR: \n"
     ]
    },
    {
     "name": "stdout",
     "output_type": "stream",
     "text": [
      "4769\n"
     ]
    },
    {
     "name": "stderr",
     "output_type": "stream",
     "text": [
      "RDKit ERROR: [14:14:48] \n",
      "RDKit ERROR: \n",
      "RDKit ERROR: ****\n",
      "RDKit ERROR: Pre-condition Violation\n",
      "RDKit ERROR: getNumImplicitHs() called without preceding call to calcImplicitValence()\n",
      "RDKit ERROR: Violation occurred on line 188 in file /home/conda/feedstock_root/build_artifacts/rdkit_1626029732763/work/Code/GraphMol/Atom.cpp\n",
      "RDKit ERROR: Failed Expression: d_implicitValence > -1\n",
      "RDKit ERROR: ****\n",
      "RDKit ERROR: \n",
      "RDKit ERROR: [14:14:49] Explicit valence for atom # 29 C, 6, is greater than permitted\n",
      "[14:14:48] \n",
      "\n",
      "****\n",
      "Pre-condition Violation\n",
      "getNumImplicitHs() called without preceding call to calcImplicitValence()\n",
      "Violation occurred on line 188 in file /home/conda/feedstock_root/build_artifacts/rdkit_1626029732763/work/Code/GraphMol/Atom.cpp\n",
      "Failed Expression: d_implicitValence > -1\n",
      "****\n",
      "\n",
      "[14:14:49] Explicit valence for atom # 29 C, 6, is greater than permitted\n"
     ]
    },
    {
     "name": "stdout",
     "output_type": "stream",
     "text": [
      "4905\n",
      "5274\n",
      "5279\n"
     ]
    },
    {
     "name": "stderr",
     "output_type": "stream",
     "text": [
      "RDKit ERROR: [14:14:49] \n",
      "RDKit ERROR: \n",
      "RDKit ERROR: ****\n",
      "RDKit ERROR: Pre-condition Violation\n",
      "RDKit ERROR: getNumImplicitHs() called without preceding call to calcImplicitValence()\n",
      "RDKit ERROR: Violation occurred on line 188 in file /home/conda/feedstock_root/build_artifacts/rdkit_1626029732763/work/Code/GraphMol/Atom.cpp\n",
      "RDKit ERROR: Failed Expression: d_implicitValence > -1\n",
      "RDKit ERROR: ****\n",
      "RDKit ERROR: \n",
      "RDKit ERROR: [14:14:52] Can't kekulize mol.  Unkekulized atoms: 6 7 8 10 11 13 14\n",
      "RDKit ERROR: \n",
      "[14:14:49] \n",
      "\n",
      "****\n",
      "Pre-condition Violation\n",
      "getNumImplicitHs() called without preceding call to calcImplicitValence()\n",
      "Violation occurred on line 188 in file /home/conda/feedstock_root/build_artifacts/rdkit_1626029732763/work/Code/GraphMol/Atom.cpp\n",
      "Failed Expression: d_implicitValence > -1\n",
      "****\n",
      "\n",
      "[14:14:52] Can't kekulize mol.  Unkekulized atoms: 6 7 8 10 11 13 14\n",
      "\n",
      "RDKit ERROR: [14:14:52] \n",
      "RDKit ERROR: \n",
      "RDKit ERROR: ****\n",
      "RDKit ERROR: Pre-condition Violation\n",
      "RDKit ERROR: getNumImplicitHs() called without preceding call to calcImplicitValence()\n",
      "RDKit ERROR: Violation occurred on line 188 in file /home/conda/feedstock_root/build_artifacts/rdkit_1626029732763/work/Code/GraphMol/Atom.cpp\n",
      "RDKit ERROR: Failed Expression: d_implicitValence > -1\n",
      "RDKit ERROR: ****\n",
      "RDKit ERROR: \n",
      "RDKit ERROR: [14:14:52] Explicit valence for atom # 5 F, 3, is greater than permitted\n",
      "[14:14:52] \n",
      "\n",
      "****\n",
      "Pre-condition Violation\n",
      "getNumImplicitHs() called without preceding call to calcImplicitValence()\n",
      "Violation occurred on line 188 in file /home/conda/feedstock_root/build_artifacts/rdkit_1626029732763/work/Code/GraphMol/Atom.cpp\n",
      "Failed Expression: d_implicitValence > -1\n",
      "****\n",
      "\n",
      "[14:14:52] Explicit valence for atom # 5 F, 3, is greater than permitted\n"
     ]
    }
   ],
   "source": [
    "for i, row in test.iterrows():\n",
    "    smi = row['compound_iso_smiles']\n",
    "    try: \n",
    "        g = smile_to_graph(smi)\n",
    "        smile_graph[smi] = g\n",
    "    except:\n",
    "        print(i)\n",
    "        test.drop(i, inplace=True)"
   ]
  },
  {
   "cell_type": "code",
   "execution_count": 15,
   "id": "4ef88531",
   "metadata": {},
   "outputs": [],
   "source": [
    "test = test.reset_index(drop=True)"
   ]
  },
  {
   "cell_type": "code",
   "execution_count": 16,
   "id": "5944f49a",
   "metadata": {},
   "outputs": [],
   "source": [
    "test.to_csv('./data/bdb_' + biomark + '_test.csv', index=False)\n",
    "train.to_csv('./data/bdb_' + biomark + '_train.csv', index=False)\n"
   ]
  },
  {
   "cell_type": "code",
   "execution_count": 112,
   "id": "85bea9ef",
   "metadata": {},
   "outputs": [],
   "source": [
    "test = pd.read_csv('./data/bdb_IC50_test.csv')\n",
    "train  = pd.read_csv('./data/bdb_IC50_train.csv')"
   ]
  },
  {
   "cell_type": "code",
   "execution_count": 113,
   "id": "92cbdb6e",
   "metadata": {},
   "outputs": [],
   "source": [
    "seq_voc = \"ABCDEFGHIKLMNOPQRSTUVWXYZ\"\n",
    "seq_dict = {v:(i+1) for i,v in enumerate(seq_voc)}\n",
    "seq_dict_len = len(seq_dict)\n",
    "max_seq_len = 1000"
   ]
  },
  {
   "cell_type": "code",
   "execution_count": 114,
   "id": "39ef6627",
   "metadata": {},
   "outputs": [],
   "source": [
    "compound_iso_smiles = []\n",
    "for dt_name in ['bdb']:\n",
    "    opts = ['train','test']\n",
    "    for opt in opts:\n",
    "        df = pd.read_csv('data/' + dt_name + '_'+ biomark + '_' + opt + '.csv')\n",
    "        compound_iso_smiles += list( df['compound_iso_smiles'] )\n",
    "compound_iso_smiles = set(compound_iso_smiles)"
   ]
  },
  {
   "cell_type": "code",
   "execution_count": null,
   "id": "c832aa5a",
   "metadata": {},
   "outputs": [],
   "source": []
  },
  {
   "cell_type": "code",
   "execution_count": null,
   "id": "3a383333",
   "metadata": {},
   "outputs": [],
   "source": []
  },
  {
   "cell_type": "code",
   "execution_count": 115,
   "id": "55afa448",
   "metadata": {},
   "outputs": [],
   "source": [
    "datasets, fold_id = ['bdb'], '1'\n",
    "dataset=datasets[0] + '_' +biomark"
   ]
  },
  {
   "cell_type": "code",
   "execution_count": null,
   "id": "5d736f10",
   "metadata": {},
   "outputs": [],
   "source": []
  },
  {
   "cell_type": "code",
   "execution_count": 116,
   "id": "a2388246",
   "metadata": {},
   "outputs": [],
   "source": [
    "# train set\n",
    "df = pd.read_csv('data/' + dataset + '_train.csv')\n",
    "train_drugs, train_prots,  train_Y = list(df['compound_iso_smiles']),list(df['target_sequence']),list(df['affinity'])\n"
   ]
  },
  {
   "cell_type": "code",
   "execution_count": 117,
   "id": "5cb24368",
   "metadata": {},
   "outputs": [],
   "source": [
    "unique_prots = list(set(train_prots))"
   ]
  },
  {
   "cell_type": "code",
   "execution_count": 118,
   "id": "dddf04b3",
   "metadata": {},
   "outputs": [],
   "source": [
    "dict_cat={}\n",
    "for t in unique_prots:\n",
    "    dict_cat[t] = seq_cat(t)\n",
    "XT = [dict_cat[t] for t in train_prots]"
   ]
  },
  {
   "cell_type": "code",
   "execution_count": 119,
   "id": "2bcf31db",
   "metadata": {},
   "outputs": [],
   "source": [
    "train_drugs, train_prots,  train_Y = np.asarray(train_drugs), np.asarray(XT), np.asarray(train_Y)"
   ]
  },
  {
   "cell_type": "code",
   "execution_count": null,
   "id": "9a1c51c0",
   "metadata": {},
   "outputs": [],
   "source": []
  },
  {
   "cell_type": "code",
   "execution_count": 120,
   "id": "f6cfbccb",
   "metadata": {},
   "outputs": [
    {
     "data": {
      "text/plain": [
       "848364"
      ]
     },
     "execution_count": 120,
     "metadata": {},
     "output_type": "execute_result"
    }
   ],
   "source": [
    "len(train_prots)"
   ]
  },
  {
   "cell_type": "code",
   "execution_count": null,
   "id": "bef20203",
   "metadata": {},
   "outputs": [],
   "source": [
    "\n",
    "# test set\n",
    "df = pd.read_csv('data/' + dataset + '_test.csv')\n",
    "test_drugs, test_prots,  test_Y = list(df['compound_iso_smiles']),list(df['target_sequence']),list(df['affinity'])\n",
    "\n",
    "unique_prots = list(set(test_prots))\n",
    "dict_cat={}\n",
    "for t in unique_prots:\n",
    "    dict_cat[t] = seq_cat(t)\n",
    "XT = [dict_cat[t] for t in test_prots]\n",
    "\n",
    "test_drugs, test_prots,  test_Y = np.asarray(test_drugs), np.asarray(XT), np.asarray(test_Y)\n"
   ]
  },
  {
   "cell_type": "code",
   "execution_count": null,
   "id": "e2732ad8",
   "metadata": {},
   "outputs": [],
   "source": [
    "from torch_geometric.data import InMemoryDataset, DataLoader\n",
    "from torch_geometric import data as DATA\n",
    "\n",
    "class custom_dataset(DATA.Dataset):\n",
    "    def __init__(self, root='/tmp', dataset='davis', \n",
    "                 xd=None, xt=None, y=None, transform=None,\n",
    "                 pre_transform=None,smile_graph=None):\n",
    "        self.dataset = dataset\n",
    "        self.xd =xd\n",
    "        self.xt=xt\n",
    "        self.y =y\n",
    "        \n",
    "#         self.process(xd, xt, y,smile_graph)\n",
    "    \n",
    "    def __len__(self):\n",
    "        return len(self.xd)\n",
    "    \n",
    "    def __getitem__(self, i):\n",
    "        smiles = self.xd[i]\n",
    "        target = self.xt[i]\n",
    "        labels = self.y[i]\n",
    "        c_size, features, edge_index = smile_to_graph(smiles)\n",
    "        # make the graph ready for PyTorch Geometrics GCN algorithms:\n",
    "        GCNData = DATA.Data(x=torch.Tensor(features),\n",
    "                                edge_index=torch.LongTensor(edge_index).transpose(1, 0),\n",
    "                                y=torch.FloatTensor([labels]))\n",
    "        GCNData.target = torch.LongTensor([target])\n",
    "        GCNData.__setitem__('c_size', torch.LongTensor([c_size]))\n",
    "        # append graph, label and target sequence to data list        \n",
    "        \n",
    "        return GCNData\n",
    "\n"
   ]
  },
  {
   "cell_type": "code",
   "execution_count": null,
   "id": "d942c846",
   "metadata": {},
   "outputs": [],
   "source": [
    "processed_data_file_train = 'data/processed/' + dataset + '_train.pt'\n",
    "processed_data_file_test = 'data/processed/' + dataset + '_test.pt'"
   ]
  },
  {
   "cell_type": "code",
   "execution_count": null,
   "id": "5f695763",
   "metadata": {
    "scrolled": true
   },
   "outputs": [],
   "source": [
    "# train_data = TestbedDataset(root='data', dataset=dataset+'_train', xd=train_drugs, xt=train_prots, y=train_Y,smile_graph=smile_graph)\n",
    "\n",
    "# test_data = TestbedDataset(root='data', dataset=dataset+'_test', xd=test_drugs, xt=test_prots, y=test_Y,smile_graph=smile_graph)\n"
   ]
  },
  {
   "cell_type": "code",
   "execution_count": null,
   "id": "80e8e136",
   "metadata": {},
   "outputs": [],
   "source": [
    "train_data = custom_dataset(root='data', dataset=dataset+'_train', xd=train_drugs, xt=train_prots, y=train_Y,smile_graph=smile_graph)\n",
    "\n",
    "test_data = custom_dataset(root='data', dataset=dataset+'_test', xd=test_drugs, xt=test_prots, y=test_Y,smile_graph=smile_graph)\n"
   ]
  },
  {
   "cell_type": "code",
   "execution_count": null,
   "id": "a145f87c",
   "metadata": {},
   "outputs": [],
   "source": [
    "train_data"
   ]
  },
  {
   "cell_type": "code",
   "execution_count": null,
   "id": "553873d4",
   "metadata": {},
   "outputs": [],
   "source": [
    "\n",
    "import sys, os\n",
    "from random import shuffle\n",
    "import torch\n",
    "import torch.nn as nn\n",
    "from models.gat import GATNet\n",
    "from models.gat_gcn import GAT_GCN\n",
    "from models.gcn import GCNNet\n",
    "from models.ginconv import GINConvNet\n"
   ]
  },
  {
   "cell_type": "code",
   "execution_count": null,
   "id": "32abda51",
   "metadata": {},
   "outputs": [],
   "source": [
    "# training function at each epoch\n",
    "def train(model, device, train_loader, optimizer, epoch):\n",
    "    print('Training on {} samples...'.format(len(train_loader.dataset)))\n",
    "    model.train()\n",
    "    for batch_idx, data in enumerate(train_loader):\n",
    "        data = data.to(device)\n",
    "        optimizer.zero_grad()\n",
    "        output = model(data)\n",
    "        loss = loss_fn(output, data.y.view(-1, 1).float().to(device))\n",
    "        loss.backward()\n",
    "        optimizer.step()\n",
    "        if batch_idx % LOG_INTERVAL == 0:\n",
    "            print('Train epoch: {} [{}/{} ({:.0f}%)]\\tLoss: {:.6f}'.format(epoch,\n",
    "                                                                           batch_idx * len(data.y),\n",
    "                                                                           len(train_loader.dataset),\n",
    "                                                                           100. * batch_idx / len(train_loader),\n",
    "                                                                           loss.item()))\n"
   ]
  },
  {
   "cell_type": "code",
   "execution_count": null,
   "id": "7802d374",
   "metadata": {},
   "outputs": [],
   "source": [
    "def predicting(model, device, loader):\n",
    "    model.eval()\n",
    "    total_preds = torch.Tensor()\n",
    "    total_labels = torch.Tensor()\n",
    "    print('Make prediction for {} samples...'.format(len(loader.dataset)))\n",
    "    with torch.no_grad():\n",
    "        for data in loader:\n",
    "            data = data.to(device)\n",
    "            output = model(data)\n",
    "            total_preds = torch.cat((total_preds, output.cpu()), 0)\n",
    "            total_labels = torch.cat((total_labels, data.y.view(-1, 1).cpu()), 0)\n",
    "    return total_labels.numpy().flatten(),total_preds.numpy().flatten()\n",
    "\n"
   ]
  },
  {
   "cell_type": "markdown",
   "id": "2b3930fb",
   "metadata": {},
   "source": [
    "# Hyper parameters\n"
   ]
  },
  {
   "cell_type": "code",
   "execution_count": null,
   "id": "20ded324",
   "metadata": {},
   "outputs": [],
   "source": [
    "datasets, fold_id = ['bdb'], '1'\n",
    "dataset=datasets[0]\n",
    "modeling = [GINConvNet, GATNet, GAT_GCN, GCNNet][0]\n",
    "model_st = modeling.__name__\n",
    "\n",
    "\n",
    "cuda_name = \"cuda\"\n",
    "\n",
    "TRAIN_BATCH_SIZE = 512\n",
    "TEST_BATCH_SIZE = 512\n",
    "LR = 0.0005\n",
    "LOG_INTERVAL = 10\n",
    "NUM_EPOCHS = 1000\n",
    "\n",
    "print('Learning rate: ', LR, flush=True)\n",
    "print(torch.cuda.is_available(), flush=True)\n",
    "print('Epochs: ', NUM_EPOCHS, flush=True)"
   ]
  },
  {
   "cell_type": "code",
   "execution_count": null,
   "id": "26453958",
   "metadata": {},
   "outputs": [],
   "source": [
    "train_loader = DataLoader(train_data, batch_size=TRAIN_BATCH_SIZE, shuffle=True)\n",
    "test_loader = DataLoader(test_data, batch_size=TEST_BATCH_SIZE, shuffle=False)"
   ]
  },
  {
   "cell_type": "code",
   "execution_count": null,
   "id": "52b4675f",
   "metadata": {},
   "outputs": [],
   "source": [
    "# train_loader"
   ]
  },
  {
   "cell_type": "code",
   "execution_count": null,
   "id": "d1ad901e",
   "metadata": {},
   "outputs": [],
   "source": [
    "# training the model\n",
    "device = torch.device(cuda_name if torch.cuda.is_available() else \"cpu\")\n",
    "model = modeling().to(device)\n",
    "loss_fn = nn.MSELoss()\n",
    "optimizer = torch.optim.Adam(model.parameters(), lr=LR)\n",
    "best_mse = 1000\n",
    "best_ci = 0\n",
    "best_epoch = -1\n",
    "model_file_name = './NEW_FOLD_RESULTS/model_' + model_st + '_' + dataset + biomark + fold_id +  '.model'\n",
    "result_file_name = './NEW_FOLD_RESULTS/result_' + model_st + '_' + dataset + biomark + fold_id + '.csv'\n",
    "for epoch in range(NUM_EPOCHS):\n",
    "    train(model, device, train_loader, optimizer, epoch+1)\n",
    "    G,P = predicting(model, device, test_loader)\n",
    "    ret = [rmse(G,P),mse(G,P),pearson(G,P),spearman(G,P),ci(G,P)]\n",
    "    if ret[1]<best_mse:\n",
    "        torch.save(model.state_dict(), model_file_name)\n",
    "        with open(result_file_name,'w') as f:\n",
    "            f.write(','.join(map(str,ret)))\n",
    "        best_epoch = epoch+1\n",
    "        best_mse = ret[1]\n",
    "        best_ci = ret[-1]\n",
    "        print('rmse improved at epoch ', best_epoch, '; best_mse,best_ci:', best_mse,best_ci,model_st,dataset, flush=True)\n",
    "    else:\n",
    "        print(ret[1],'No improvement since epoch ', best_epoch, '; best_mse,best_ci:', best_mse,best_ci,model_st,dataset, flush=True)"
   ]
  },
  {
   "cell_type": "code",
   "execution_count": null,
   "id": "e52b3bb9",
   "metadata": {
    "scrolled": false
   },
   "outputs": [],
   "source": [
    "for i,d in enumerate(train_loader):\n",
    "    print(i)\n",
    "    x=d\n",
    "    break"
   ]
  },
  {
   "cell_type": "code",
   "execution_count": 84,
   "id": "86788214",
   "metadata": {},
   "outputs": [
    {
     "data": {
      "text/plain": [
       "1657"
      ]
     },
     "execution_count": 84,
     "metadata": {},
     "output_type": "execute_result"
    }
   ],
   "source": [
    "len(train_loader)"
   ]
  },
  {
   "cell_type": "code",
   "execution_count": 85,
   "id": "d7935de8",
   "metadata": {},
   "outputs": [
    {
     "data": {
      "text/plain": [
       "848364"
      ]
     },
     "execution_count": 85,
     "metadata": {},
     "output_type": "execute_result"
    }
   ],
   "source": [
    "len(train_data)"
   ]
  },
  {
   "cell_type": "code",
   "execution_count": 91,
   "id": "1fa1eff7",
   "metadata": {},
   "outputs": [
    {
     "data": {
      "text/plain": [
       "848364"
      ]
     },
     "execution_count": 91,
     "metadata": {},
     "output_type": "execute_result"
    }
   ],
   "source": [
    "len(train_loader.dataset)"
   ]
  },
  {
   "cell_type": "code",
   "execution_count": 92,
   "id": "22793b5e",
   "metadata": {},
   "outputs": [
    {
     "data": {
      "text/plain": [
       "15716"
      ]
     },
     "execution_count": 92,
     "metadata": {},
     "output_type": "execute_result"
    }
   ],
   "source": [
    "len(d.x)"
   ]
  },
  {
   "cell_type": "code",
   "execution_count": 93,
   "id": "ee2a5d0f",
   "metadata": {},
   "outputs": [
    {
     "data": {
      "text/plain": [
       "Batch(batch=[15716], c_size=[512], edge_index=[2, 34240], ptr=[513], target=[512, 1000], x=[15716, 78], y=[512])"
      ]
     },
     "execution_count": 93,
     "metadata": {},
     "output_type": "execute_result"
    }
   ],
   "source": [
    "d"
   ]
  },
  {
   "cell_type": "code",
   "execution_count": 100,
   "id": "306d1ee8",
   "metadata": {},
   "outputs": [
    {
     "name": "stderr",
     "output_type": "stream",
     "text": [
      "/tmp/ipykernel_1214/2381432997.py:27: DeprecationWarning: an integer is required (got type numpy.float64).  Implicit conversion to integers using __int__ is deprecated, and may be removed in a future version of Python.\n",
      "  GCNData.target = torch.LongTensor([target])\n"
     ]
    }
   ],
   "source": [
    "for i, b in enumerate(train_data):\n",
    "    break"
   ]
  },
  {
   "cell_type": "code",
   "execution_count": 101,
   "id": "44211a32",
   "metadata": {},
   "outputs": [
    {
     "data": {
      "text/plain": [
       "Data(c_size=[1], edge_index=[2, 58], target=[1, 1000], x=[27, 78], y=[1])"
      ]
     },
     "execution_count": 101,
     "metadata": {},
     "output_type": "execute_result"
    }
   ],
   "source": [
    "b"
   ]
  },
  {
   "cell_type": "code",
   "execution_count": 102,
   "id": "6236e69e",
   "metadata": {},
   "outputs": [
    {
     "data": {
      "text/plain": [
       "29696"
      ]
     },
     "execution_count": 102,
     "metadata": {},
     "output_type": "execute_result"
    }
   ],
   "source": [
    "512*58"
   ]
  },
  {
   "cell_type": "code",
   "execution_count": 103,
   "id": "57318025",
   "metadata": {},
   "outputs": [
    {
     "data": {
      "text/plain": [
       "13824"
      ]
     },
     "execution_count": 103,
     "metadata": {},
     "output_type": "execute_result"
    }
   ],
   "source": [
    "27*512"
   ]
  },
  {
   "cell_type": "code",
   "execution_count": 104,
   "id": "553a8763",
   "metadata": {},
   "outputs": [
    {
     "data": {
      "text/plain": [
       "30.6953125"
      ]
     },
     "execution_count": 104,
     "metadata": {},
     "output_type": "execute_result"
    }
   ],
   "source": [
    "15716/512"
   ]
  },
  {
   "cell_type": "code",
   "execution_count": null,
   "id": "61211185",
   "metadata": {},
   "outputs": [],
   "source": []
  }
 ],
 "metadata": {
  "kernelspec": {
   "display_name": "Python 3",
   "language": "python",
   "name": "python3"
  },
  "language_info": {
   "codemirror_mode": {
    "name": "ipython",
    "version": 3
   },
   "file_extension": ".py",
   "mimetype": "text/x-python",
   "name": "python",
   "nbconvert_exporter": "python",
   "pygments_lexer": "ipython3",
   "version": "3.6.13"
  }
 },
 "nbformat": 4,
 "nbformat_minor": 5
}
