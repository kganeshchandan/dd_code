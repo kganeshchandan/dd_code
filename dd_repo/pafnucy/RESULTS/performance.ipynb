{
 "cells": [
  {
   "cell_type": "code",
   "execution_count": 1,
   "id": "125d4f4c",
   "metadata": {},
   "outputs": [],
   "source": [
    "import pandas as pd\n",
    "import numpy as np\n",
    "import scipy \n",
    "import sklearn.metrics"
   ]
  },
  {
   "cell_type": "code",
   "execution_count": 2,
   "id": "c2b025fd",
   "metadata": {},
   "outputs": [],
   "source": [
    "results = pd.read_csv('./output-2021-11-04T18:12:03-predictions.csv')"
   ]
  },
  {
   "cell_type": "code",
   "execution_count": 3,
   "id": "ad0b1f7c",
   "metadata": {},
   "outputs": [
    {
     "data": {
      "text/html": [
       "<div>\n",
       "<style scoped>\n",
       "    .dataframe tbody tr th:only-of-type {\n",
       "        vertical-align: middle;\n",
       "    }\n",
       "\n",
       "    .dataframe tbody tr th {\n",
       "        vertical-align: top;\n",
       "    }\n",
       "\n",
       "    .dataframe thead th {\n",
       "        text-align: right;\n",
       "    }\n",
       "</style>\n",
       "<table border=\"1\" class=\"dataframe\">\n",
       "  <thead>\n",
       "    <tr style=\"text-align: right;\">\n",
       "      <th></th>\n",
       "      <th>pdbid</th>\n",
       "      <th>real</th>\n",
       "      <th>predicted</th>\n",
       "      <th>set</th>\n",
       "    </tr>\n",
       "  </thead>\n",
       "  <tbody>\n",
       "    <tr>\n",
       "      <th>0</th>\n",
       "      <td>10gs</td>\n",
       "      <td>6.40</td>\n",
       "      <td>5.974236</td>\n",
       "      <td>training</td>\n",
       "    </tr>\n",
       "    <tr>\n",
       "      <th>1</th>\n",
       "      <td>11gs</td>\n",
       "      <td>5.82</td>\n",
       "      <td>7.223146</td>\n",
       "      <td>training</td>\n",
       "    </tr>\n",
       "    <tr>\n",
       "      <th>2</th>\n",
       "      <td>13gs</td>\n",
       "      <td>4.62</td>\n",
       "      <td>6.487788</td>\n",
       "      <td>training</td>\n",
       "    </tr>\n",
       "    <tr>\n",
       "      <th>3</th>\n",
       "      <td>1a07</td>\n",
       "      <td>6.40</td>\n",
       "      <td>5.917330</td>\n",
       "      <td>training</td>\n",
       "    </tr>\n",
       "    <tr>\n",
       "      <th>4</th>\n",
       "      <td>1a08</td>\n",
       "      <td>5.62</td>\n",
       "      <td>6.284413</td>\n",
       "      <td>training</td>\n",
       "    </tr>\n",
       "    <tr>\n",
       "      <th>...</th>\n",
       "      <td>...</td>\n",
       "      <td>...</td>\n",
       "      <td>...</td>\n",
       "      <td>...</td>\n",
       "    </tr>\n",
       "    <tr>\n",
       "      <th>16603</th>\n",
       "      <td>8abp</td>\n",
       "      <td>8.00</td>\n",
       "      <td>5.313930</td>\n",
       "      <td>test</td>\n",
       "    </tr>\n",
       "    <tr>\n",
       "      <th>16604</th>\n",
       "      <td>8cpa</td>\n",
       "      <td>9.15</td>\n",
       "      <td>5.564448</td>\n",
       "      <td>test</td>\n",
       "    </tr>\n",
       "    <tr>\n",
       "      <th>16605</th>\n",
       "      <td>8gpb</td>\n",
       "      <td>3.60</td>\n",
       "      <td>4.649616</td>\n",
       "      <td>test</td>\n",
       "    </tr>\n",
       "    <tr>\n",
       "      <th>16606</th>\n",
       "      <td>966c</td>\n",
       "      <td>7.64</td>\n",
       "      <td>6.875021</td>\n",
       "      <td>test</td>\n",
       "    </tr>\n",
       "    <tr>\n",
       "      <th>16607</th>\n",
       "      <td>9abp</td>\n",
       "      <td>8.00</td>\n",
       "      <td>4.322268</td>\n",
       "      <td>test</td>\n",
       "    </tr>\n",
       "  </tbody>\n",
       "</table>\n",
       "<p>16608 rows × 4 columns</p>\n",
       "</div>"
      ],
      "text/plain": [
       "      pdbid  real  predicted       set\n",
       "0      10gs  6.40   5.974236  training\n",
       "1      11gs  5.82   7.223146  training\n",
       "2      13gs  4.62   6.487788  training\n",
       "3      1a07  6.40   5.917330  training\n",
       "4      1a08  5.62   6.284413  training\n",
       "...     ...   ...        ...       ...\n",
       "16603  8abp  8.00   5.313930      test\n",
       "16604  8cpa  9.15   5.564448      test\n",
       "16605  8gpb  3.60   4.649616      test\n",
       "16606  966c  7.64   6.875021      test\n",
       "16607  9abp  8.00   4.322268      test\n",
       "\n",
       "[16608 rows x 4 columns]"
      ]
     },
     "execution_count": 3,
     "metadata": {},
     "output_type": "execute_result"
    }
   ],
   "source": [
    "results"
   ]
  },
  {
   "cell_type": "code",
   "execution_count": 4,
   "id": "9b494dae",
   "metadata": {},
   "outputs": [],
   "source": [
    "train = results[results['set']=='training']\n",
    "test = results[results['set']=='test']\n",
    "validation = results[results['set']=='validation']"
   ]
  },
  {
   "cell_type": "code",
   "execution_count": 5,
   "id": "c6f4f973",
   "metadata": {},
   "outputs": [],
   "source": [
    "    \n",
    "def rmse(predictions, targets):\n",
    "    return np.sqrt(((predictions - targets) ** 2).mean())\n",
    "\n",
    "def mse(predictions, targets):\n",
    "    return ((predictions - targets) ** 2).mean()\n",
    "\n",
    "def pearson(predictions, targets):\n",
    "    return scipy.stats.pearsonr(predictions, targets)\n",
    "\n",
    "def MAE(predictions, targets):\n",
    "    return sklearn.metrics.mean_absolute_error(targets, predictions)\n",
    "\n",
    "def SD(predictions, targets):\n",
    "    return (((targets - predictions) ** 2).sum() / (len(predictions) - 1)) ** 0.5\n",
    "\n",
    "def performance(predictions, targets):\n",
    "    print(\"RMSE\", rmse(predictions, targets))\n",
    "    print(\"MSE\", mse(predictions, targets))\n",
    "    print(\"R, p-value\", pearson(predictions, targets))\n",
    "    print(\"MAE\", MAE(predictions, targets))\n",
    "    print('SD', SD(predictions, targets))"
   ]
  },
  {
   "cell_type": "code",
   "execution_count": 6,
   "id": "5db5add2",
   "metadata": {},
   "outputs": [
    {
     "name": "stdout",
     "output_type": "stream",
     "text": [
      "RMSE 1.6350300006163199\n",
      "MSE 2.6733231029154028\n",
      "R, p-value (0.5551178024418029, 0.0)\n",
      "MAE 1.2911903654805497\n",
      "SD 1.6351776931328232\n"
     ]
    }
   ],
   "source": [
    "performance(np.array(test['predicted'].values), np.array(test['real'].values))"
   ]
  },
  {
   "cell_type": "code",
   "execution_count": 7,
   "id": "a06af019",
   "metadata": {},
   "outputs": [
    {
     "name": "stdout",
     "output_type": "stream",
     "text": [
      "RMSE 1.1936823284367908\n",
      "MSE 1.4248775012222785\n",
      "R, p-value (0.7713073243229417, 0.0)\n",
      "MAE 0.9325669939817182\n",
      "SD 1.1937415903123858\n"
     ]
    }
   ],
   "source": [
    "performance(np.array(train['predicted'].values), np.array(train['real'].values))"
   ]
  },
  {
   "cell_type": "code",
   "execution_count": 8,
   "id": "4044d24a",
   "metadata": {},
   "outputs": [
    {
     "name": "stdout",
     "output_type": "stream",
     "text": [
      "RMSE 1.4136206598512255\n",
      "MSE 1.9983233699582141\n",
      "R, p-value (0.667226422470445, 8.035628454566904e-130)\n",
      "MAE 1.113783253507614\n",
      "SD 1.414328000731042\n"
     ]
    }
   ],
   "source": [
    "performance(np.array(validation['predicted'].values), np.array(validation['real'].values))"
   ]
  },
  {
   "cell_type": "code",
   "execution_count": null,
   "id": "1f5d4bb7",
   "metadata": {},
   "outputs": [],
   "source": []
  }
 ],
 "metadata": {
  "kernelspec": {
   "display_name": "Python 3",
   "language": "python",
   "name": "python3"
  },
  "language_info": {
   "codemirror_mode": {
    "name": "ipython",
    "version": 3
   },
   "file_extension": ".py",
   "mimetype": "text/x-python",
   "name": "python",
   "nbconvert_exporter": "python",
   "pygments_lexer": "ipython3",
   "version": "3.6.13"
  }
 },
 "nbformat": 4,
 "nbformat_minor": 5
}
